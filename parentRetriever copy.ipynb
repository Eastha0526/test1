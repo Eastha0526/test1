{
 "cells": [
  {
   "cell_type": "code",
   "execution_count": null,
   "metadata": {},
   "outputs": [],
   "source": [
    "!pip install pandas\n",
    "!pip install accelerate\n",
    "!pip install -i https://pypi.org/simple/ bitsandbytes\n",
    "!pip install transformers[torch] -U\n",
    "\n",
    "!pip install datasets\n",
    "!pip install langchain\n",
    "!pip install langchain_community\n",
    "!pip install PyMuPDF\n",
    "!pip install sentence-transformers\n",
    "!pip install faiss-cpu\n",
    "!pip install -qU kiwipiepy konlpy langchain-teddynote tiktoken"
   ]
  },
  {
   "cell_type": "code",
   "execution_count": 42,
   "metadata": {},
   "outputs": [],
   "source": [
    "import os\n",
    "\n",
    "os.environ[\"LANGCHAIN_TRACING_V2\"] = \"true\"\n",
    "os.environ[\"LANGCHAIN_ENDPOINT\"] = \"https://api.smith.langchain.com\"\n",
    "os.environ[\"LANGCHAIN_PROJECT\"] = \"dacon\"\n",
    "os.environ[\"LANGCHAIN_API_KEY\"] = \"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\""
   ]
  },
  {
   "cell_type": "code",
   "execution_count": 43,
   "metadata": {},
   "outputs": [
    {
     "name": "stdout",
     "output_type": "stream",
     "text": [
      "LangSmith 추적을 시작합니다.\n",
      "[프로젝트명]\n",
      "dacon\n"
     ]
    }
   ],
   "source": [
    "from langchain_teddynote import logging\n",
    "\n",
    "# 프로젝트 이름을 입력합니다.\n",
    "logging.langsmith(\"dacon\")"
   ]
  },
  {
   "cell_type": "code",
   "execution_count": 1,
   "metadata": {},
   "outputs": [
    {
     "name": "stderr",
     "output_type": "stream",
     "text": [
      "/Users/yuni/miniconda3/envs/rag/lib/python3.10/site-packages/tqdm/auto.py:21: TqdmWarning: IProgress not found. Please update jupyter and ipywidgets. See https://ipywidgets.readthedocs.io/en/stable/user_install.html\n",
      "  from .autonotebook import tqdm as notebook_tqdm\n"
     ]
    }
   ],
   "source": [
    "# for Retrieval\n",
    "from langchain.retrievers import ContextualCompressionRetriever\n",
    "from langchain.retrievers.document_compressors import LLMChainExtractor\n",
    "from langchain_community.document_loaders import PyMuPDFLoader\n",
    "from langchain.text_splitter import SpacyTextSplitter\n",
    "from langchain.retrievers.multi_query import MultiQueryRetriever\n",
    "\n",
    "# for llm\n",
    "import torch\n",
    "from transformers import AutoTokenizer, AutoModelForCausalLM, BitsAndBytesConfig\n",
    "from langchain.prompts import PromptTemplate\n",
    "from langchain.schema import HumanMessage\n",
    "from langchain.callbacks.streaming_stdout import StreamingStdOutCallbackHandler\n",
    "from langchain.schema.runnable import RunnablePassthrough\n",
    "from langchain_core.output_parsers import StrOutputParser\n",
    "\n",
    "# for document loader\n",
    "from langchain_community.document_loaders import PyMuPDFLoader\n",
    "\n",
    "# for chunking\n",
    "from langchain.text_splitter import RecursiveCharacterTextSplitter\n",
    "\n",
    "# for embedding\n",
    "from langchain_huggingface import HuggingFaceEmbeddings\n",
    "\n",
    "# for vectorDB\n",
    "from langchain_community.vectorstores import Chroma\n",
    "from langchain.vectorstores import FAISS\n",
    "\n",
    "# for chain\n",
    "from langchain_core.prompts import ChatPromptTemplate\n",
    "from langchain_core.runnables import RunnableParallel\n",
    "from langchain.schema import Document\n",
    "\n",
    "# for huggingface\n",
    "from langchain.llms import HuggingFacePipeline\n",
    "from langchain.chains import LLMChain\n",
    "from transformers import pipeline\n",
    "\n",
    "# for data\n",
    "import zipfile\n",
    "import os\n",
    "import unicodedata\n",
    "import fitz\n",
    "\n",
    "from tqdm import tqdm\n",
    "import warnings\n",
    "warnings.filterwarnings('ignore')"
   ]
  },
  {
   "cell_type": "code",
   "execution_count": 2,
   "metadata": {},
   "outputs": [],
   "source": [
    "# 문서를 예쁘게 출력하기 위한 도우미 함수\n",
    "def pretty_print_docs(docs):\n",
    "    print(\n",
    "        f\"\\n{'-' * 100}\\n\".join(\n",
    "            [f\"문서 {i+1}:\\n\\n\" + d.page_content for i, d in enumerate(docs)]\n",
    "        )\n",
    "    )"
   ]
  },
  {
   "cell_type": "code",
   "execution_count": 4,
   "metadata": {},
   "outputs": [],
   "source": [
    "def format_docs(docs):\n",
    "    unique_contents = set(doc.page_content for doc in docs)\n",
    "    return \"\\n\\n\".join(unique_contents)"
   ]
  },
  {
   "cell_type": "code",
   "execution_count": 3,
   "metadata": {},
   "outputs": [],
   "source": [
    "import pandas as pd\n",
    "# 쿼리 처리\n",
    "df = pd.read_csv(\"test.csv\")\n",
    "\n",
    "# Question 열의 텍스트를 리스트로 저장\n",
    "questions = df['Question'].tolist()"
   ]
  },
  {
   "cell_type": "code",
   "execution_count": 5,
   "metadata": {},
   "outputs": [
    {
     "data": {
      "text/plain": [
       "'2010년에 신규 지원된 혁신창업사업화자금은 무엇인가요?'"
      ]
     },
     "execution_count": 5,
     "metadata": {},
     "output_type": "execute_result"
    }
   ],
   "source": [
    "# query test\n",
    "query_test = questions[3]\n",
    "query_test"
   ]
  },
  {
   "cell_type": "code",
   "execution_count": 6,
   "metadata": {},
   "outputs": [],
   "source": [
    "### Document loader ###\n",
    "pdfs = [\n",
    "    \"./test_source/「FIS 이슈 & 포커스」 22-4호 《중앙-지방 간 재정조정제도》.pdf\",\n",
    "    \"./test_source/「FIS 이슈 & 포커스」 23-2호 《핵심재정사업 성과관리》.pdf\",\n",
    "    \"./test_source/「FIS 이슈&포커스」 22-2호 《재정성과관리제도》.pdf\",\n",
    "    \"./test_source/「FIS 이슈 & 포커스」(신규) 통권 제1호 《우발부채》.pdf\",\n",
    "    \"./test_source/국토교통부_행복주택출자.pdf\",\n",
    "    \"./test_source/보건복지부_노인장기요양보험 사업운영.pdf\",\n",
    "    \"./test_source/보건복지부_부모급여(영아수당) 지원.pdf\",\n",
    "    \"./test_source/산업통상자원부_에너지바우처.pdf\",\n",
    "    \"./test_source/중소벤처기업부_혁신창업사업화자금(융자).pdf\"\n",
    "]\n",
    "\n",
    "docs = [PyMuPDFLoader(pdf).load() for pdf in pdfs]\n",
    "docs_list = [item for sublist in docs for item in sublist ]\n",
    "\n",
    "# 총 데이터의 길이 출력\n",
    "print(\"총 데이터 수:\", len(docs_list))"
   ]
  },
  {
   "cell_type": "code",
   "execution_count": 11,
   "metadata": {},
   "outputs": [
    {
     "name": "stdout",
     "output_type": "stream",
     "text": [
      "총 데이터 수: 494\n"
     ]
    }
   ],
   "source": [
    "### CSV loader ###\n",
    "from langchain_community.document_loaders.csv_loader import CSVLoader\n",
    "csvs = [\n",
    "    \"./test_source/「FIS 이슈 & 포커스」 22-4호 《중앙-지방 간 재정조정제도》.csv\",\n",
    "    \"./test_source/「FIS 이슈 & 포커스」 23-2호 《핵심재정사업 성과관리》.csv\",\n",
    "    \"./test_source/「FIS 이슈&포커스」 22-2호 《재정성과관리제도》.csv\",\n",
    "    \"./test_source/「FIS 이슈 & 포커스」(신규) 통권 제1호 《우발부채》.csv\",\n",
    "    \"./test_source/국토교통부_행복주택출자.csv\",\n",
    "    \"./test_source/보건복지부_노인장기요양보험 사업운영.csv\",\n",
    "    \"./test_source/보건복지부_부모급여(영아수당) 지원.csv\",\n",
    "    \"./test_source/산업통상자원부_에너지바우처.csv\",\n",
    "    \"./test_source/중소벤처기업부_혁신창업사업화자금(융자).csv\"\n",
    "]\n",
    "\n",
    "# 데이터를 저장할 리스트\n",
    "csv_data = []\n",
    "\n",
    "# 각 CSV 파일을 로드하고 데이터를 리스트에 저장\n",
    "for csv_file in csvs:\n",
    "    loader = CSVLoader(file_path=csv_file, encoding='utf-8')\n",
    "    data = loader.load()\n",
    "    csv_data.extend(data)  # 각 파일의 데이터를 리스트에 추가\n",
    "\n",
    "# 총 데이터의 길이 출력\n",
    "print(\"총 데이터 수:\", len(csv_data))"
   ]
  },
  {
   "cell_type": "code",
   "execution_count": null,
   "metadata": {},
   "outputs": [],
   "source": [
    "# PDF 데이터와 CSV 데이터를 결합\n",
    "all_list = docs_list + csv_data\n",
    "print(\"총 데이터 수:\", len(all_list))"
   ]
  },
  {
   "cell_type": "code",
   "execution_count": 14,
   "metadata": {},
   "outputs": [],
   "source": [
    "### Embedding ###\n",
    "model_kwargs = {'device': 'cpu'} # gpu -> 'cuda', cpu -> 'cpu'\n",
    "\n",
    "embeddings = HuggingFaceEmbeddings(\n",
    "    model_name=\"BAAI/bge-m3\",\n",
    "    model_kwargs=model_kwargs,\n",
    "    encode_kwargs=model_kwargs,\n",
    "    show_progress=True\n",
    ")"
   ]
  },
  {
   "cell_type": "code",
   "execution_count": 63,
   "metadata": {},
   "outputs": [],
   "source": [
    "from langchain_openai import ChatOpenAI\n",
    "from langchain_core.callbacks.streaming_stdout import StreamingStdOutCallbackHandler\n",
    "\n",
    "llm = ChatOpenAI(\n",
    "    base_url=\"http://localhost:1234/v1\",\n",
    "    api_key=\"lm-studio\",\n",
    "    #model=\"second-state/Mistral-Nemo-Instruct-2407-GGUF\",\n",
    "    model=\"lmstudio-community/Meta-Llama-3.1-8B-Instruct-GGUF\",\n",
    "    #model=\"Qwen/Qwen2-7B-Instruct-GGUF\",\n",
    "    #model= \"teddylee777/EEVE-Korean-Instruct-10.8B-v1.0-gguf\",\n",
    "    temperature=0.0,\n",
    "    streaming=True,\n",
    "    callbacks=[StreamingStdOutCallbackHandler()], # 스트림 출력 콜백\n",
    ")"
   ]
  },
  {
   "cell_type": "code",
   "execution_count": 15,
   "metadata": {},
   "outputs": [],
   "source": [
    "from langchain.storage import InMemoryStore\n",
    "from langchain_community.document_loaders import TextLoader\n",
    "from langchain_community.vectorstores import Chroma\n",
    "from langchain_openai import OpenAIEmbeddings\n",
    "from langchain_text_splitters import RecursiveCharacterTextSplitter\n",
    "from langchain.retrievers import ParentDocumentRetriever"
   ]
  },
  {
   "cell_type": "code",
   "execution_count": 47,
   "metadata": {},
   "outputs": [
    {
     "name": "stderr",
     "output_type": "stream",
     "text": [
      "Batches: 100%|██████████| 24/24 [01:44<00:00,  4.34s/it]\n"
     ]
    },
    {
     "data": {
      "text/plain": [
       "['3dc5f2dd-dbbd-4bef-a278-e4468d037d41',\n",
       " '10684ed8-53a5-4e30-a40a-95b177af5c3a',\n",
       " '297f4ec1-8d5c-430d-be5c-a8f88df8f6d6',\n",
       " '93b97984-a923-4b42-a0ee-b7b288f4d656',\n",
       " 'c3337908-5f74-4dc1-acf3-48bb0bfb0cc5',\n",
       " '8cba15db-0fe5-47d2-8210-8a9173da222d',\n",
       " 'a7cdf7e7-07b8-4b1b-96aa-71126e850890',\n",
       " '8728fdce-8846-4b4e-acfb-4c4f0e5b1b9a',\n",
       " 'c0c9eae5-2d4c-4e29-9f11-30bce4d83272',\n",
       " '2076b74c-9922-45aa-9375-c3df5e300ae2',\n",
       " '0e8cb2db-7288-4bbe-9c70-2a43ea327438',\n",
       " 'e3ef8565-99bc-49bf-965b-15eeb0aba9d5',\n",
       " '78d6ea11-7fca-4080-a3bf-83b4095769d1',\n",
       " '3ec70b8b-5e4e-4aba-816c-ca90cedefff1',\n",
       " 'aeb9fd6c-c525-411f-ae9e-f983a7f9bff6',\n",
       " '8f0ecf35-6df6-4b3a-b360-a3c056110d80',\n",
       " 'e55d089d-69f6-49db-8779-8ef30e86c25d',\n",
       " 'bf600fff-3916-4e04-a01e-08cbfbbc8eee',\n",
       " 'b8965b91-8fda-4034-a095-62e6b5f8f0cb',\n",
       " 'a252e6f2-4e36-4122-b533-d30af7f46b96',\n",
       " 'e188ef7b-4544-4d54-97a2-9aae26c9899f',\n",
       " 'ea81b041-9679-43f6-81d7-00aa36106d53',\n",
       " 'b78be4d6-e39e-4ea2-bfc7-82a44369e6fa',\n",
       " '69253649-d16b-4651-8abb-dccf2305872a',\n",
       " 'ac5985d9-d7db-4018-80c7-6b2becd0d5b4',\n",
       " 'ca4c2bde-2c0f-4a55-9f9e-b2a552ac6e28',\n",
       " '470485a3-1a78-40e7-99f9-6ff8d1ddac3c',\n",
       " 'a68ba9c5-af30-4f02-bcef-b5d95c54d790',\n",
       " '50e9b38c-e13f-49c2-bd01-9de06c2a77fb',\n",
       " '9a33288d-3bda-42ed-bc30-bdc3eec3d45e',\n",
       " 'c756a752-0579-47b7-a708-9e32642a4a62',\n",
       " 'fc7b7d04-368e-45e9-a194-ef2f68226ee1',\n",
       " '790269e7-d6ee-4ec0-addb-c49c0dbb70ed',\n",
       " '99164208-ec42-4c3d-992d-27e48b176eaf',\n",
       " 'bad21a13-ebc1-4c70-bb4a-d57401be29ab',\n",
       " 'f94b7ca9-aa2f-4ef9-b423-fc53f5a5613a',\n",
       " 'c519fec2-bf40-40c0-a809-4f85ca2792aa',\n",
       " 'bf8f1b17-5506-4998-93de-8305d35ae518',\n",
       " '0709d9dc-fa28-462a-8918-a8447f4a5420',\n",
       " '23a89c18-a9f5-4693-8daa-78a25896c197',\n",
       " '99a26cbf-14ff-4524-a814-9ac12961fbea',\n",
       " 'fb9822f3-f676-46d6-94af-bee0bf9a19ae',\n",
       " '2fca4972-1403-4c5b-865d-6744746329ba',\n",
       " '89f599f2-9f37-4c80-8c43-78d401f6b37c',\n",
       " '0ef065cc-14ef-45bf-b685-cd3a3c705c47',\n",
       " 'd8a82242-92cc-4adc-8dea-be60cb54f343',\n",
       " '71423e20-ac11-44ce-a6c7-2de34f82327d',\n",
       " 'fcf94bec-ee51-4ed4-b4c8-e91b70839787',\n",
       " '07da7908-d780-4a61-bc59-94ab83725a5f',\n",
       " '52e780e6-c9d1-42c6-bbb9-d25064f42ae3',\n",
       " '3fc7604c-c027-4dd0-93f0-d91c8bf70d49',\n",
       " 'ba379bf7-18c7-47dc-beeb-b90a2359ddef',\n",
       " 'ea7e2bac-7390-4d60-94cb-5e0613fdc956',\n",
       " '5f8e2fa6-d7ad-43e9-9346-33f20457977c',\n",
       " 'd25f0b67-9691-4c6a-ac35-373dac5254c1',\n",
       " 'ebb376a7-3fb8-477a-969f-53d14c1d38f4',\n",
       " '4e43d42a-2383-4cb0-a84b-6939b804d4b1',\n",
       " 'cf54276a-b5d1-4800-99e2-69060cf7547b',\n",
       " '1c8abb13-1969-4072-b902-bd02eb58f6e1',\n",
       " 'cb05b573-4bfa-430f-8cd3-426982ea4cc9',\n",
       " '092d3a3f-02f5-49ad-ae59-0f3958130c07',\n",
       " 'cc941fda-ef39-45b2-b6ef-f051eebc6fa6',\n",
       " '7eea0a4a-2d15-414b-bb13-b6c395adaa56',\n",
       " 'b54a11b2-81c9-4a1a-93e8-9c6336817a41',\n",
       " '6ae46132-8f95-4c26-9595-63980c0855e4',\n",
       " '5c097a7e-c692-4289-ab6b-fb0f58b41640',\n",
       " 'fd2f46b8-b064-4012-a3e4-42ce8a0c68bb',\n",
       " '0d4635c6-3c63-440d-8cf4-ef2e3c251d25',\n",
       " 'c11a3936-8542-435d-9511-ea9220699856',\n",
       " 'f47b5b49-5312-409d-b7d1-ef3d2129ba0f',\n",
       " '80e7d7e2-fc29-4429-9b61-caf1005b8e82',\n",
       " 'b200cbbe-bcb1-4691-be5b-d5775bc3cc17',\n",
       " '5aadb4c6-f845-4030-8ca5-0ac6512aba6a',\n",
       " '9e555946-14f4-4fc7-a0e5-9efa6a8a9775',\n",
       " '0b3fca4c-e307-4d13-8f97-1ca74f3e2280',\n",
       " 'b577ce0a-5520-4598-bd33-c7d3e619d494',\n",
       " '95f7d88f-a12b-4b18-a9aa-c8bedf9e756f',\n",
       " '11f9f968-3ba8-4390-ad2f-6c2a2019be60',\n",
       " 'df142e72-b695-4938-ba16-5fadbc90e6f6',\n",
       " '20e40bb1-82f4-4097-bb6c-489bfb475e16',\n",
       " 'e9edf821-4da3-4b3b-8560-922b843c0f54',\n",
       " '75dc7d50-7376-4136-ad2a-eceefe65c725',\n",
       " '5ff002fc-4955-42af-972b-1906c9f274c4',\n",
       " 'f7a63637-3c66-4a9c-bda2-fb67698d22de',\n",
       " 'c8b458d6-057a-4136-b9d0-0853b65a2154',\n",
       " '807ebc47-31c3-41e4-a197-8a7333e9946f',\n",
       " 'c9675692-cda9-4549-a896-8c2e05ec8ba2',\n",
       " '6c14f4cd-d8d7-4bf9-9661-9005f1b33a74',\n",
       " '14e8831f-a9e2-4fc2-b9f4-b1dc289b6e04',\n",
       " 'b7a183e2-0ee7-4e48-b64e-a650b569e0b9',\n",
       " 'caf761ed-f26b-4313-86f7-c2888fdec123',\n",
       " '24c6921c-547b-40e2-9afe-410388314133',\n",
       " '4d351093-e02f-48b0-af9a-2a65fef5020f',\n",
       " 'e6b5fcdf-eabc-4d2a-af8f-a19ce4f563af',\n",
       " 'f529e1e3-9ef8-4658-b4e1-3a4f70b03934',\n",
       " '987d342b-2140-4165-b303-a55140c5fc8c',\n",
       " 'fe2801c2-90b2-49a5-973e-9b8745dd63c2',\n",
       " 'd1fdf380-50a3-4567-a1c9-824ec21460e5',\n",
       " '97c4f0a2-0dff-4fa6-ad30-e822d0fbbf66',\n",
       " '5c5ede6c-57e5-4277-b091-85f1665eccd5',\n",
       " '8b283795-f92a-4b5e-8c1f-b0b4b1431355',\n",
       " '129e85c0-58cb-4b0e-9ac3-da20fa9c2ca5',\n",
       " 'd3a67756-7084-4909-9b60-88bd6a509479',\n",
       " '27e34d12-29df-4eef-8df0-9fdf44301074',\n",
       " 'cb9987d4-f2ad-47ff-863d-dbc30b03135f',\n",
       " '86b85e08-287d-42cc-8803-2d07dc0cfad1',\n",
       " '6644457b-09dc-4f73-b76a-5db420b640bf',\n",
       " '11c6c0fa-69f9-4b55-911b-76e7d18ae687',\n",
       " 'c9574390-3d80-4990-adf1-2a27ddb5ff81',\n",
       " 'b2765575-afbe-4887-98e3-1769175893dc',\n",
       " '996b7c26-bcd2-49b7-812d-ac727b6d34f6',\n",
       " 'fd1e0d57-f483-472b-aebc-afdaeb00880e',\n",
       " '389df574-31f3-4579-9e17-ba60b107f6f5',\n",
       " 'fb3d70d1-68c1-4a0e-a20c-dc909c6177a6',\n",
       " '9b343f1c-2a78-4a56-b6c3-db2abadc308e',\n",
       " 'a9466c18-4119-4cf1-9a1d-3c308c3ca6a1',\n",
       " 'bf2b77da-693b-49f6-9521-cfdfeb1ca6cf',\n",
       " '72b2523a-a1ec-464d-ab63-777ddeb60d0b',\n",
       " 'c8ebad43-1bf7-41ef-ac22-2c99d351d30d',\n",
       " 'e81605f3-c886-45b9-93bb-9982a5b59963',\n",
       " 'e2e6b331-5388-43ab-b194-e155c439a32d',\n",
       " '865cb9a5-ae70-4e32-be92-d11590155b9b',\n",
       " '6e065836-9f64-4b1c-bbdf-7a07eeaddd1b',\n",
       " 'a68feec4-7371-4ecc-a165-1e279152281d',\n",
       " '7e5acea4-3f46-4988-af50-80398e0e585e',\n",
       " '6e4c86b4-94cc-45cb-9fee-77d2a22b4829',\n",
       " 'cdbba8f1-79fa-4558-bcda-703f8554ccd9',\n",
       " '6b59ce61-b838-4d46-8e95-6675f540a4c5',\n",
       " '13999b93-e345-46bd-9daf-0aa839a41749',\n",
       " '4f5d9c56-3b37-4ebe-9072-456e692ff9d4',\n",
       " '21a1e098-da2c-41c7-a591-498b4a0b88f2',\n",
       " '71494b19-f29d-46c2-82c4-51ae199af1ec',\n",
       " '33b1a9b0-9277-4ee2-956e-1fc11e81687e',\n",
       " 'c05ef87d-8936-4cd6-8d73-d97e75869144',\n",
       " 'e5ae2ca6-f0a7-43b1-98a9-1e5dabcfdc37',\n",
       " '30173958-938d-411c-bb68-5543ef307051',\n",
       " '550545dc-8809-4045-86b1-d22868bf32d2',\n",
       " '668a5462-5080-4986-a6bf-297354d951ee',\n",
       " '67e6c5f9-8b08-4740-80f9-2e7e0fa44cd5',\n",
       " 'bbf937f5-a0f1-4a78-91ac-3cd7e3eeae89',\n",
       " '63f105f7-1dbc-4ccc-9eea-b9e840b6486b',\n",
       " '17e53149-76e8-43a2-9551-238e5baef90c',\n",
       " 'c1123d44-d1d7-4432-b598-6150ccdb53bc',\n",
       " '5d6cd7d7-b8a7-4fa3-aa06-f322702ab74f',\n",
       " 'e3f0926c-cf9d-46a6-af04-5ba9daac44cf',\n",
       " 'a69643a9-4905-46b5-895d-3c7c14184573',\n",
       " '6d896192-2320-49b8-8815-4305065544bc',\n",
       " '4bfe02bd-1a9b-4b22-a5e8-080cc6bfe7dd',\n",
       " 'ddf010b0-224c-4779-b330-bab0db9739e0',\n",
       " '13a7d9b2-296d-4498-b0f9-981f9283c40e',\n",
       " 'cbd23724-c185-44b6-9541-b39a25549b2f',\n",
       " '128bc6b6-d163-4cc6-bb6f-7b7bf3207a4a',\n",
       " '9f44f08c-da9a-46f5-bca2-7cf70d028772',\n",
       " 'c96b0086-5bc5-4204-be95-cd407c4ce465',\n",
       " '731793c7-c821-477c-817e-14807779aea0',\n",
       " 'e39cdf4e-0d50-45ee-af9d-4ee59214fbec',\n",
       " 'e5e5d8f7-6602-4bd4-be62-79b84002215a',\n",
       " 'd4a707fa-24ab-4d66-babb-a827f9b91857',\n",
       " '977204dc-ae41-4293-bf44-31ac33607205',\n",
       " 'b928bb64-a446-4ff3-934a-a563e023330a',\n",
       " 'bbd2803a-607d-4ad0-a795-09e987837b9a',\n",
       " '406ec3ce-46c8-41d7-99a8-7e460bd27974',\n",
       " 'd05a890c-3935-4f74-b415-6ad08570832d',\n",
       " '757b62fe-bdf8-4c79-a79b-b0c3f5830356',\n",
       " '48775bbb-2a59-49d2-b5c3-2a9efaf9428a',\n",
       " 'd6e6b889-41c0-4d75-a3e2-976f08279092',\n",
       " 'ef0a18a9-9d75-4d72-8afc-f1b98d5fbf5b',\n",
       " 'd05ee353-ee84-4098-b72b-c711414e6088',\n",
       " '122a0cb9-f61a-49b5-a075-bc2becdbee58',\n",
       " '7140aa4d-c5d7-4471-93d6-eabb4f1a426f',\n",
       " 'd505fc0e-eec5-47ed-981c-58ec7f986572',\n",
       " '69eed407-42c0-4ea8-99ee-e2f0959e4521',\n",
       " 'fdf59fe1-9707-4c51-aa47-17b3e1384c25',\n",
       " '98c55f08-3d26-4b76-a9f2-048b5208a810',\n",
       " '6facd6ac-0cea-4224-b001-ed2c21dcb3dd',\n",
       " '6442ad03-1170-432b-b13f-742dbafe96d4',\n",
       " '41cf3b2c-e631-4e41-8834-9d6b5b89a779',\n",
       " 'af6346a4-267a-4f94-b3d3-ff168448c317',\n",
       " '902996d4-1ad2-4cc6-abd3-6d9c8b8132c6',\n",
       " 'b71191da-4a99-4c38-bcd9-21426d8c9e43',\n",
       " '14908cf5-30ee-45e4-8f26-bee10ada7246',\n",
       " '9f28cd28-6212-4d45-a0fa-03d44020c561',\n",
       " '8b287ac8-24b5-442e-91e1-ae77a643f39f',\n",
       " '4dbb2539-bb95-44e6-92b8-218ed139082e',\n",
       " 'cba71eeb-2267-4fc4-a823-f43a5886ee6d',\n",
       " 'e2ae02fa-0469-4323-a11c-c59a86a2d55c',\n",
       " '3847bce7-4408-4a37-bee9-9a7d32854c52',\n",
       " '3d830dab-2e2c-4f2c-bc48-0a93482c1a34',\n",
       " 'f4a5cdfc-52fb-4b12-bdd5-a8475ab9cc43',\n",
       " '225fd535-4eeb-4ac9-b4b6-a5202c8b06e2',\n",
       " 'de27251b-729d-4eee-9e32-cb19db83e97c',\n",
       " 'e2029a39-b2a6-4810-871b-9e7393e29628',\n",
       " '936a372f-5fe3-4a5c-97de-b3b0d3604f0d',\n",
       " '3c0a04c6-135a-45a5-8109-b298513dd351',\n",
       " '93c0e570-10b9-4dbc-b653-2d50215e999f',\n",
       " '5a0ebb8e-cd83-4474-bb82-333079990e04',\n",
       " 'f7147a11-9fa1-4e7f-b12e-0253bf4fd7da',\n",
       " 'e0e23edb-702a-408c-98c6-a097a27f4d94',\n",
       " 'ee023395-467f-465a-92f8-c0d6a72c6157',\n",
       " '7f0a1030-2977-434f-b4fe-65082f8f301b',\n",
       " '01aade55-b7ab-4fba-9107-4a8a5068db66',\n",
       " 'ae259716-9fe3-4ff8-aa63-c315f81f3640',\n",
       " 'bfe87e39-76f9-4ad4-9b34-6a525326f644',\n",
       " 'ed21c1ee-3082-4c27-a748-3e19b2cb3b88',\n",
       " '8ee50f47-78b9-4b5a-9a56-4dadcb8acf96',\n",
       " '7d6a64a1-a75b-4194-8bd9-bcdb1cf8f6e1',\n",
       " 'abc5bb71-0f7f-42bb-9ba8-bde842171e26',\n",
       " 'f013b644-5623-4871-afce-cdcb13b0b89d',\n",
       " 'd9d267c3-61c5-4d4f-bce1-bf8614d53a98',\n",
       " '94fcaf71-3586-4cd5-a492-6b35fbebcd41',\n",
       " 'ec26e6df-0033-4b32-bb6d-0337415f59aa',\n",
       " '90c8d85c-835b-40ff-bdf1-43301718ffe5',\n",
       " '7a709a64-1221-402d-b268-936e2376dec3',\n",
       " 'd00eb87d-d452-4cd3-bb2f-884bbce87989',\n",
       " '9fd8c2b0-f569-498c-88b0-6c849a6a5329',\n",
       " '854b5702-c0a0-4c70-b71c-c8db5b55afd1',\n",
       " 'ee2b041f-a079-48a6-9a83-ae4af8430c2a',\n",
       " '658f2fae-d2bc-4c42-aaff-7aee4e8abcc6',\n",
       " '7d77f29b-c105-4dc1-acaf-d5dfcba32902',\n",
       " '78d13b70-5561-4517-aabf-bc3b6188ac9b',\n",
       " 'b2d42077-3386-4ba2-a2a8-37c0b2d9c757',\n",
       " '04b4a8c8-ca0c-45ee-9494-4538f98a871a',\n",
       " '7b3084f1-3e21-4192-93ad-b1f294215275',\n",
       " 'd9522fd7-065c-4912-817d-003057c48157',\n",
       " '7f5def6c-58db-4061-a872-334197120017',\n",
       " '5c162042-5bfe-414a-b9ff-f88d49a1a84f',\n",
       " '21605dc1-7fe4-4d26-b92c-134ac682f9ae',\n",
       " 'cbdc1ab8-2925-41b2-acc6-d7660ed04dd4',\n",
       " '46109afe-f896-4cba-a4dc-3eaae1e9f5e3',\n",
       " '99d77096-f452-477a-912a-5516154a1abd',\n",
       " '69d24101-2a89-4f62-a4e0-c02ecfa947f1',\n",
       " '37ef5a2b-c19a-4612-b3d4-9be87285b630',\n",
       " '51b05e01-0280-4551-a8a8-4a30d9f01b67',\n",
       " 'f6cead80-246b-4f5e-8fcc-2d5362ebcd9d',\n",
       " 'f4508e2c-998f-45d4-b63c-fab69dd5216a',\n",
       " '67d93963-6045-42c1-87df-ff32965e6fee',\n",
       " 'ac0b3282-f922-44f4-9864-8994641b1efd',\n",
       " '76d60d9c-de57-4da1-ae75-9156e2b4bd08',\n",
       " '21fbfa77-73e5-4c8a-836e-5abea64ee69a',\n",
       " '1081e2b1-0dac-4ff1-9ea2-242e866b8fe7',\n",
       " '3fd1e7a7-bfc6-45f3-9a48-32ffa4414724',\n",
       " '53ff4bcd-1a01-47b9-aa68-f4c9735b138d',\n",
       " '87b48a40-8072-48d2-8fbc-138cf242e824',\n",
       " 'f39ce668-0a72-42ab-a6d5-0458c619d65a',\n",
       " '83d3a577-70fd-4f05-acff-ca691bb679d1',\n",
       " '8f41da3e-aacf-4cae-be5e-a0dc22aec4d5',\n",
       " '8a907952-38b0-4f85-b36a-a889d911d1f4',\n",
       " '21e34284-e283-42ab-a3e4-aa4c5000e264',\n",
       " 'c21a9a0a-fd21-4e06-a484-645074bb0a9f',\n",
       " '52257c00-1ca0-48ad-affa-1c29c03a23d0',\n",
       " 'b039672a-d9da-4833-a636-47337805ce39',\n",
       " '1bcbec4f-562a-4388-a563-11c2984abd11',\n",
       " 'a7da0d5f-40b3-478a-9f85-8888fbee55e3',\n",
       " '3a8f1484-f1ba-4248-a0fc-bb28848dd8a1',\n",
       " '755bf883-d068-4f29-b9b4-ea5cbee8b402',\n",
       " '19ce4c59-448a-49c2-b174-9c9c5e9bbd7b',\n",
       " '516c21e5-d3c5-466e-a851-3d9de9ad4a00',\n",
       " '70c8c24c-7a11-47b6-b034-6a7c39f02225',\n",
       " 'cf900d5a-9a26-4f33-864b-3e4c2974dd68',\n",
       " 'b6ed1904-ad61-41b7-ac4d-589050d1b251',\n",
       " '95db9dc8-29e3-4a47-a7b6-61b9cd6b5c5c',\n",
       " '855e295f-673c-4a6e-bcdf-c7253ec37508',\n",
       " '7288b693-01f0-49e6-93f0-efd03f565583',\n",
       " 'e657c0a3-aa4d-4450-82f5-e733164d48c8',\n",
       " 'bd48c3fa-7972-4732-8070-0ab857a8e579',\n",
       " 'c900b2d4-1d76-4307-a3e0-312fe6ffd46f',\n",
       " '46cd580b-7792-47ed-b8cc-6932f6051b1a',\n",
       " '7f91722d-4f3b-450d-ae6f-30b521e61986',\n",
       " '6efb96fd-b1f7-4509-b3ce-1530366f708e',\n",
       " 'd85ea703-3105-4768-abea-dc714855e432',\n",
       " 'a91885f6-5b24-448e-bb7d-24e5666fb361',\n",
       " '8e568bbb-8ba8-4839-9cdf-d3e365bf629a',\n",
       " 'ed9d89c1-201c-4982-8e7f-7a302bc8bf97',\n",
       " '68d4e634-79d8-4b3b-9873-4e4afa233a9f',\n",
       " '1e343c51-6a1a-432d-88ec-fa2ef455bcc8',\n",
       " '127eec3f-c582-40bf-8d3a-b3f5cbe8454f',\n",
       " 'c223f4de-cbd1-4f2d-99f2-f8fbdd3c6215',\n",
       " 'f0372127-7114-4f24-a5cf-4d4f888c54af',\n",
       " 'c889a7f9-f821-4932-b30e-4d6ef4bb5403',\n",
       " '2d0f0cb1-6379-4ff7-8c2a-08a14632edb1',\n",
       " '3ee0afb5-5ef9-4fe4-97b7-9b47cdd917d5',\n",
       " '9bc209f8-d84b-4ef0-ad7f-37c38ebccc2e',\n",
       " '0d3de27e-eef6-4f9c-b89d-b74ece004824',\n",
       " 'f41c3919-86d2-4660-97a1-d086a20e09af',\n",
       " 'dae37d6b-33e6-4fe5-b022-05b8f1c9e8cb',\n",
       " 'edb07284-09f9-4fec-b315-e9017c39a3e7',\n",
       " '5269d774-f2a5-415b-aaa9-8ea4a5bba417',\n",
       " '90e32801-4cc9-4bc1-b0a9-19ff3755c80c',\n",
       " '2f95c91c-5a82-44d3-90ba-7f660f7ea0d8',\n",
       " '679ab09b-6360-422a-8f1c-bb9cebf0eb4a',\n",
       " 'cdc43741-ea2c-4de7-b825-a8bb1ef9550a',\n",
       " '31136f17-9499-478e-88f3-f13dd7ee9902',\n",
       " '4d06ea2c-ae4f-4b7f-9543-28f530ab34fa',\n",
       " '7936d0ee-ab05-4ad6-a85b-f689986a11b8',\n",
       " '64141b5e-8e06-473b-bd78-e81248865c6f',\n",
       " 'a4a2ab81-4fd1-4d23-a97a-767975ed7678',\n",
       " 'b57b6689-7056-4d87-a916-e742d7d0a99f',\n",
       " '72ad3ac8-508f-4687-a0c8-200562817146',\n",
       " 'c37ddbfe-0a7a-4c3a-a618-fc8737e90bdc',\n",
       " 'a76e9dee-278e-490b-b53e-e8b1bed6b28f',\n",
       " 'ab9cb8f1-9c72-424a-b221-778889d5e749',\n",
       " 'e32ec901-a43f-48af-9333-f16e990237c6',\n",
       " '73cd1549-eacb-4eb8-807f-8ffc5f263300',\n",
       " 'eab2119b-f483-433d-a516-1beb1cc60055',\n",
       " 'a261de1f-6c82-4742-bdc0-64b7ad9394e5',\n",
       " '0ed4179c-b220-4cb5-a6bf-78889120b248',\n",
       " '47676c21-947b-4d7f-8fe5-2eb85816973c',\n",
       " 'a2ef1a7d-405b-4f34-910a-937cc4236c06',\n",
       " '4e4af653-bd7e-4205-974e-5fdf68c11f74',\n",
       " 'a110c581-c9e0-42f0-b219-6046817b1506',\n",
       " 'd3690d8f-d4f2-420a-a2f3-ef1401e6dc38',\n",
       " 'a97a5c58-65c1-43bd-a687-eb3e6acc6602',\n",
       " 'c0c29516-f675-4757-a505-462a36810288',\n",
       " '8b43660e-bcb3-4635-95c8-4935de070ac3',\n",
       " 'af954b10-2610-4ffa-a78b-c032d7012c61',\n",
       " 'b486d17e-7354-486b-8bab-22a8c141733b',\n",
       " '6bf59b18-7575-4b73-9b51-45ddb35a1e77',\n",
       " '6ba6a783-1bec-45b4-a06a-7f3d92057eba',\n",
       " '8057aa63-2e62-40a8-ac40-7919e2e8c8a4',\n",
       " 'db2a0800-dd3e-446b-bfb7-6cfe3590932a',\n",
       " '73dd0ce7-b1b2-41b5-a7ec-79f581e0d8d8',\n",
       " 'cac73411-cd92-41be-a033-86bc4adf13a2',\n",
       " '30648415-0d6c-4929-b94c-6eeed9e6a3c1',\n",
       " 'fca01300-d2ff-4812-a028-4de4d1d8408b',\n",
       " '106b5713-16f7-4842-b0b3-a7aacce95457',\n",
       " 'd712baa8-fc3a-4538-b7cd-44b271d0b41a',\n",
       " '7cca81ca-8bab-4ef6-bf08-f31f09541c73',\n",
       " 'fd6ec4c7-6ad7-4b48-a385-150465adbc10',\n",
       " '757fa071-48ba-496c-a60a-ee155b07afe9',\n",
       " '24e33de8-8249-458b-a78d-42a906753f75',\n",
       " '60154955-be60-4117-a72d-54e9088a7391',\n",
       " '55961e75-0749-49ba-938c-e248dc5eda64',\n",
       " '715373c2-6532-4c4d-8c08-c920f47573f2',\n",
       " '74ca58c8-2f37-4e07-a2fd-07a8c236a96c',\n",
       " '2d5626c2-b2e0-4b7e-83a4-36abcd4a18ca',\n",
       " 'cc55bb71-7a7f-46d5-83a0-f798bb3de426',\n",
       " 'd6b50abb-ece2-41fa-86db-987206defb83',\n",
       " '473ab2bd-8c98-4f4b-9dc8-267e2780a0e8',\n",
       " 'db5aaaa8-0a7b-451c-be1b-61efa650db31',\n",
       " 'f915a62d-ee65-4ab2-90d6-0ed0e60534d1',\n",
       " 'c483befb-2f71-4212-b295-f925c4068bf7',\n",
       " 'ad51e367-aa74-4443-a637-62f103f3e137',\n",
       " '5916ada0-4f68-4070-b220-46c5661220cd',\n",
       " 'e0e2303e-da83-4751-be4c-98b6d1badbdc',\n",
       " '99de9ccd-5c29-45f3-abc9-87665b25feb5',\n",
       " '50cb52f2-e943-4d6f-a1c6-bcac6be549d9',\n",
       " 'ba7f076a-6d6a-4690-a441-749b7cf4ce2c',\n",
       " '48060bf8-8871-4787-97c0-39bb8980521a',\n",
       " '7618e31f-1e25-42e1-bcde-9918ba0ef70a',\n",
       " '9813510e-0adf-484c-accb-0f017791546c',\n",
       " 'ee47fadf-8dd5-4791-8287-e4d13e31f041',\n",
       " 'fea800ea-9331-45fc-94ac-685bcacb18ec',\n",
       " 'a0ba873e-2556-422b-8f83-87bfbfb3ac1c',\n",
       " 'ef998e3f-9f39-43a9-b066-569b36937aa9',\n",
       " 'ed1ea836-ef59-4fb1-95a8-4ae5a2787488',\n",
       " 'e26e7ca9-0c2c-4c92-aae6-f9416889d982',\n",
       " 'd17499b7-b280-43c4-9805-1fb6fd732fce',\n",
       " '673244af-2449-4356-a10d-52e58a74c598',\n",
       " '7db31732-0d68-47fb-863a-ab6172ac56f7',\n",
       " '2df2f6a4-c6d4-4257-83d9-f163d0786a48',\n",
       " '3cbf26c3-2196-4eca-ba6c-1e781cadbdd0',\n",
       " 'c427128a-1db1-4910-8c2c-8a39f5b8e5a7',\n",
       " '909bc047-b4b0-43b3-bf3a-7e10fd9d48c0',\n",
       " '2c112918-82df-42c4-be79-ec33121c25c2',\n",
       " 'b7509990-83ac-40c8-810f-b48934ddeb5e',\n",
       " '7fa24675-3564-4090-9cad-6fa76e8f5e2a',\n",
       " 'f801c600-ecca-4aa3-9851-d850f363a2bd',\n",
       " '3224546c-71d4-4350-9617-a20f0fa99817',\n",
       " '019c548c-e287-403c-a7b6-b8ab076d4de4',\n",
       " 'a3707cb4-965a-4e1d-96e9-1c36a583f86f',\n",
       " '98567038-434c-4304-a575-2e7d56c7a158',\n",
       " '0b349e19-68ba-4f7e-90a8-18d27505ed69',\n",
       " '21b704b3-a2bf-4f9a-b991-c3e459d1493f',\n",
       " 'b3258fee-8985-478d-81f1-26533543bc72',\n",
       " '44fde0eb-1e7a-417a-b939-d92b7d9c5308',\n",
       " '326c4cc5-de50-482d-9054-a51bb90dec53',\n",
       " '8103cc8d-5764-4ba1-a09e-5f52955d74dd',\n",
       " 'ab3bda63-9d31-4d82-bede-a175f580ac85',\n",
       " '6fb67a56-89c0-421b-88c7-9acaa8806902',\n",
       " '4f7bed05-909a-45dd-855f-4f909ff9cdfd',\n",
       " '79bdd7b0-ca11-4d46-971c-2c0d025ac0bc',\n",
       " 'c5144b07-e0d3-413b-952d-faa97c113fe4',\n",
       " '6e5f5c97-b403-458f-a4be-730505611f7b',\n",
       " '1645e5b4-a223-437f-b459-a0599f05fdc1',\n",
       " '06af45cb-7d1e-4036-b273-8b908d46abbb',\n",
       " '21ac63d4-1245-45cb-9926-cc4bf4a803f2',\n",
       " '0b0b5fcd-4605-45e6-84a5-e2537c70bf35',\n",
       " '3fe033f3-07e1-4d2a-a443-89539902c927',\n",
       " '49bfb686-5788-42cb-9df7-09cd80266059',\n",
       " 'ddfa0d7f-48e6-4b91-b6f7-de326b2ee3ad',\n",
       " '9bd1b546-9c57-4112-9515-c29aed66ffec',\n",
       " '4c965fb1-31e8-4d01-a541-a7bdb2b0b2eb',\n",
       " '262b0f4b-a4d3-4846-8d24-8d365e07cda5',\n",
       " '7f197248-c5b7-4277-93e1-37901aeac7c3',\n",
       " '82bb3657-4640-4dcb-b0f2-661b11b8fc16',\n",
       " '442f2e1b-e742-4bb0-8dd2-543c1beaed3d',\n",
       " '4e22a6e1-3a8b-4b35-a3a8-957025b12366',\n",
       " '4d8e2764-e8ff-4a56-91e9-e55a3bf03937',\n",
       " '7ba551c3-c446-440a-8f0c-654cb2753fc9',\n",
       " '18ada9a6-6b07-461b-9f51-2ef95b2c4a47',\n",
       " '8b635478-d536-4e79-8583-4793d358e44e',\n",
       " 'd294c914-17d6-4ceb-b558-1fc60e93ca54',\n",
       " '35699a8e-873b-4f05-b241-ccb2725480f6',\n",
       " '06d68a73-f5f6-4d55-8d1b-ec47fdbbf179',\n",
       " '73291e33-0b2b-4a92-a078-e543f726114c',\n",
       " 'd72ce0eb-ca74-45fe-99c6-61af518b3aff',\n",
       " 'd61d0cd9-6159-49b8-bbae-244dbd76b27f',\n",
       " '0287adfe-e823-47e2-8075-608c7c5babc5',\n",
       " '0b2fda09-81d8-463a-9bea-1d02e94828a6',\n",
       " '0e0fd54f-3284-4793-b63c-de47acd1a07c',\n",
       " 'bb36cd4a-7523-4c32-ae29-92d9be28b4a9',\n",
       " '196b927f-c7b8-4c0a-84c7-217625ebe511',\n",
       " '9047648b-affc-4076-86df-854ca0ac20ec',\n",
       " 'f909e281-1a24-45d0-b87a-3266e081d3e1',\n",
       " '165936a1-6582-4fd4-9320-033408e0a552',\n",
       " 'd989fff5-9d42-4553-bf48-d75cc970af54',\n",
       " 'cf50e029-b9aa-4c4d-aef8-4e91f2372f51',\n",
       " 'ebe72047-9baf-49ac-bb9b-312c270854e1',\n",
       " '7aebfa54-ca52-477c-a273-169096e2b05d',\n",
       " 'dd852925-5fee-452a-8ea2-74228ba8d82d',\n",
       " '6623abba-718f-4aab-81e9-9709c2385b08',\n",
       " 'b799e629-dc60-4122-a2ea-e5ebe05ed875',\n",
       " '826570ac-b845-4e08-af57-e8c47d18bebe',\n",
       " '297221bf-f803-4237-a13f-bf16298c9bd8',\n",
       " '5707e1c3-3882-479e-90e3-320522cd5c75',\n",
       " '1408a98a-bb76-4fca-9a1f-7bd684b3249f',\n",
       " 'b2e3c974-e5a2-4b72-b319-af57ecc8220e',\n",
       " '8f1cb917-227d-4e28-9bab-ee52aded75c3',\n",
       " 'b4ec7769-820a-42b8-8a94-7f4470631a3e',\n",
       " '2586e7b7-8a86-4c77-b25e-8d177e81ad80',\n",
       " 'a7636ef1-d4ca-470e-99ee-b5f6af73025d',\n",
       " 'b9e2d21c-5bbe-46f2-8118-c5b0f594cecb',\n",
       " 'e92ad438-2128-4c28-9379-fb814b0e28ee',\n",
       " 'aad4a9b8-64ff-4a40-96b1-a6a7067da5f7',\n",
       " '5028769e-6dea-4e80-8325-d0eb89cd3705',\n",
       " '8911ab2a-69c3-48e9-ae89-8066da18269a',\n",
       " 'a5b78ed9-4924-4c7c-aab4-135596658895',\n",
       " '6d6a5097-52fa-4d29-919f-dfc45710eedf',\n",
       " 'e55db9f5-4473-432f-b38a-34f225baead2',\n",
       " 'ce3a9d24-af10-4fe5-b176-0fa0f5c7da7a',\n",
       " 'f335263b-19ef-446d-904d-0254a550ae9b',\n",
       " 'eeee3465-99df-48c9-9e72-8f2549ba6028',\n",
       " 'e1cc706b-5b36-4691-8e86-eef65057b6f1',\n",
       " '2d1d38c8-4d1e-465b-8239-9fa5100331db',\n",
       " '5b6a16eb-f3c9-4d70-8edf-b93a3008e128',\n",
       " '65208f24-005f-4597-b83b-dad6dfd1dd44',\n",
       " '9314bf9f-1533-46c1-b438-73433e0bec5a',\n",
       " '429398bf-e550-4f15-aa8c-3963be3ff623',\n",
       " '1025d12c-a78a-4412-b648-23d63946df43',\n",
       " 'bd0cce0f-0269-4405-96c5-35cd308284a8',\n",
       " '4edcd3a2-54c6-4175-ba8a-ac6425ff6251',\n",
       " 'a3667f42-eaac-4d61-b395-f5315ad82d7f',\n",
       " '1282a0b9-8e80-4b53-8a79-fc1935a1517b',\n",
       " 'd6a8da40-6aee-42b6-b2e1-5775824453fb',\n",
       " '4af47246-5755-4253-b5b8-73c4b252ac28',\n",
       " '07aea549-8227-4788-adc9-6e67c144cbd7',\n",
       " 'ae860cf0-c278-4d3e-8d79-b83dcde48b7e',\n",
       " '2b0f6db8-3ebc-4abc-bdff-d8782939b334',\n",
       " 'c870f10f-0985-42ca-8683-be0c53d43a74',\n",
       " 'ea552139-d321-4688-b415-6573ecf5d950',\n",
       " 'da1d1963-6ef9-4d1c-93dc-eeed7bc1f632',\n",
       " 'ff332e4b-d820-4f65-827f-6a37ebffcaea',\n",
       " '05f4ccce-6a74-4336-8695-77260925031c',\n",
       " '2951a59f-049f-4aac-82a7-8f40057409a2',\n",
       " '10dc6d25-82ee-4621-bfe3-2c575e97d545',\n",
       " '8f87c454-dcdf-4f49-b638-6ba3699c1f63',\n",
       " '08530164-f26b-4c53-b560-0d1f45794b09',\n",
       " '4b38261a-c1b5-464b-a155-d3ff41d9d16a',\n",
       " '40a8b7f2-d0a3-46aa-bf8f-a7f4e8bbb306',\n",
       " 'ed7ec62a-e761-4ad6-bc9d-4a45bdae8c2f',\n",
       " '0de9b9b5-59ff-458a-95a4-2fe21a5b5250',\n",
       " '5f1fca44-cb3f-48d3-ba7d-1c4368f7115d',\n",
       " '9e5a2fcd-72cc-4d2e-8a62-23ff122cba47',\n",
       " '3d20ad9e-6db2-4021-bb8b-45ef2def3038',\n",
       " 'ba8eac63-ac00-4189-8b79-62988c951603',\n",
       " '4020e515-5728-4536-88ea-ebe9d4cf9565',\n",
       " 'e2352042-6789-4d2f-a57e-2942fe1d2320',\n",
       " '6856137b-7a4e-44b9-aefd-bcda1b7ba1a0',\n",
       " 'da86a9ab-594c-41b5-a542-14783e408a5a',\n",
       " '8fc43550-4106-407b-8f59-103730227297',\n",
       " 'ecf66bc6-14f0-4c6f-bf04-3c9e1fd867f6',\n",
       " 'ebcbe30b-e47f-40bc-a049-fcf21963092a',\n",
       " 'f27226fe-3b8b-4271-91d9-ec6e93968c7c',\n",
       " '1c99fa15-ca65-4ebc-886d-838d2a40f6bb',\n",
       " 'bb9ea10b-65ba-4e5f-bcd6-bd973530d2ee',\n",
       " 'c56cd24f-1946-47e1-9281-b971de0ee4fc',\n",
       " 'f7352633-72a9-4d9e-95b6-ef4cb33e7e81',\n",
       " '138c146c-84f7-47aa-8f18-6df029cdf6cd',\n",
       " 'b76a884e-e09a-43e6-a73f-b5b9893bfb55',\n",
       " '0f50b65b-5818-4eb4-8362-f494ec0a08c3',\n",
       " '0df527ae-d92c-43a0-bb5b-dcea747db114',\n",
       " 'd1fb119f-a65c-43d6-8678-a0a8543562b5',\n",
       " '7d806976-f884-4133-975d-327f26d47ea7',\n",
       " '9b7b26c9-bbdf-4063-bc23-2ef469ae6450',\n",
       " '944ff9b9-16e7-4620-bf57-9c71d1a29501',\n",
       " '097ecada-dc97-4496-ad8f-3212925b3d28',\n",
       " '48b5e812-6b9e-4c81-848c-c11fd4bfbc77',\n",
       " '90cdd991-2773-43d5-8dba-faf12bd2025c',\n",
       " '0fbb8bd8-02c7-4924-98d8-cc8aed490028',\n",
       " '3ba92744-bb78-4400-b084-7f214d5e2620',\n",
       " '49816778-d741-4c4e-90f5-9af9fc002e68',\n",
       " '44a98950-a3ea-4f72-b2ac-078b24f39c1b',\n",
       " '3040f274-163a-486c-9e9d-d383502a018d',\n",
       " 'eee2a2a0-6305-4159-a293-ebdd141d088b',\n",
       " '35a2b6be-fe59-4e25-8f12-05866ef30d09',\n",
       " '6791b3c2-c970-4b25-91b9-cfd55fa6cf21',\n",
       " '8456dff9-aead-4337-8c1f-feb432b39c6c',\n",
       " 'a2e8c9dc-abef-43db-8e45-43608f0fd934',\n",
       " 'ae90fed9-f1dc-4048-b66e-3eaaae67b704',\n",
       " '306d74fb-910c-43b1-84a5-5c4f2e2d7a7f',\n",
       " 'ad9221cc-39ec-4410-8d29-28ca59ea3ab2',\n",
       " 'd4eed062-6719-4260-ae27-b3fc696c3f28',\n",
       " '2a177411-85ff-469c-a22e-a6b5c10ee0e8',\n",
       " 'e7e1d579-ca79-47b2-aefc-961788157acd',\n",
       " '08ba15c6-c28b-43c5-b234-1ec3dfcaaaf4',\n",
       " '48a69671-115c-488f-bcfb-196fb639af11',\n",
       " '4070bf23-d6de-4e75-bb02-cc7877dede7a',\n",
       " '094e268f-8d77-46da-b49c-b80958971c39',\n",
       " 'd385e2ac-748a-43e3-9101-c84e87d0abeb',\n",
       " '5e8a5e37-5e04-4bad-9dd3-4aa740bfad7c',\n",
       " 'd29d8880-9a84-46bc-ae25-254dda10cdd7',\n",
       " '6f50cbf8-710a-4326-b0f2-088c56438474',\n",
       " '123a179b-3d6b-4dc4-9531-9c4a6149dcd2',\n",
       " '48545ecc-7466-431e-a8af-3c1536da48c8',\n",
       " 'ae56c7b3-bcb5-4293-8b7f-b92fd9a3b1f8',\n",
       " 'd58d743c-382d-47f1-9ad7-606f58b28250',\n",
       " '6940df6b-f8ae-4054-89e1-6cef6746fa5c',\n",
       " 'fd696122-7ef2-44d3-b674-d81074a1a6cd',\n",
       " '3d340552-9625-4cc9-b0c9-bdb3bb6bb3ea',\n",
       " 'e62c949e-5b65-406a-abeb-22cba4c69bb8',\n",
       " 'cdc677d3-43df-4240-90d7-ab65870db224',\n",
       " '514b8d58-2748-4569-8ab4-f5e5b19e6398',\n",
       " 'c54283cc-9dc7-4c77-9ffc-6e82b3f61c94',\n",
       " 'e759ddb4-81d8-4215-ab23-0fa5897e76f1',\n",
       " 'cab1f448-ffd0-4af9-b5a2-3231b66f971a',\n",
       " '2e1d7213-95dc-4e1d-9749-2fed2bc4dd69',\n",
       " '6f0ffe35-5fcb-452a-a5b0-f3b91df3c745',\n",
       " 'b8d7f059-6580-47c7-bc32-e120bdacc1c3',\n",
       " '8b29d77c-4cd3-48c2-b378-56e760174e92',\n",
       " '54b67a10-971c-456c-a7a4-b6f0f4897183',\n",
       " '720ae9e0-3949-4163-886e-e6e13fedc155',\n",
       " '75b22e29-cf03-4a01-9f76-0fd79227dd85',\n",
       " '39835981-dce7-45d0-81f2-209c69e611ad',\n",
       " '2170aa45-e70d-4ed6-a019-a4994f5414e6',\n",
       " 'bd0285cd-5d27-4e71-80ca-c9991765d490',\n",
       " '81f1dc77-d49b-4d1f-8853-8af5f2b06670',\n",
       " 'adb7c8ce-6d13-4b4b-bed2-dc681679e2d7',\n",
       " 'd8530e5e-7303-4666-865c-bec95b8dfd5c',\n",
       " '3cc6f17d-7c7e-4f43-a66e-48db6d765c40',\n",
       " 'e51e4015-3246-4ef0-843c-0f4cf8515511',\n",
       " '601a942f-f6d4-4f11-90d3-ad39034af48f',\n",
       " 'fe42cdeb-754b-49b4-ae17-36c81595f171',\n",
       " 'feaeab10-4c62-4981-9ea9-e121a117be2c',\n",
       " '8fb7120e-0a1f-4bb7-8e49-4f5251dbd5d3',\n",
       " '9bebcfc2-14e6-48df-a1dd-3b7112da90b4',\n",
       " '54298f2f-28be-4a09-80bc-3322552341be',\n",
       " '2629ed14-6062-4d5d-b8d6-542ed1e0c327',\n",
       " '7b34971f-d4df-4de4-be22-ea42f79befce',\n",
       " 'ee097577-13f8-4663-92dc-41d2a9f2e0f8',\n",
       " '26fa15b0-7a2c-4389-9539-61c3816bec54',\n",
       " 'bb9bc252-3b02-4195-82c4-86f5704b44ce',\n",
       " '27278143-b221-44f7-b6e9-218ff8e0ec2a',\n",
       " '47356aec-a014-4b1e-b6d0-75d2cdae98ce']"
      ]
     },
     "execution_count": 47,
     "metadata": {},
     "output_type": "execute_result"
    }
   ],
   "source": [
    "### csv + pdf ###\n",
    "\n",
    "child_splitter = RecursiveCharacterTextSplitter.from_tiktoken_encoder(\n",
    "    chunk_size=1024, chunk_overlap=50\n",
    ")\n",
    "# DB를 생성합니다.\n",
    "vectorstore = Chroma(\n",
    "    collection_name=\"full_documents\", \n",
    "    embedding_function=embeddings\n",
    ")\n",
    "store = InMemoryStore()\n",
    "\n",
    "# Retriever 를 생성합니다.\n",
    "retriever = ParentDocumentRetriever(\n",
    "    vectorstore=vectorstore,\n",
    "    docstore=store,\n",
    "    child_splitter=child_splitter,\n",
    ")\n",
    "\n",
    "retriever.add_documents(all_list, ids=None, add_to_docstore=True)\n",
    "\n",
    "# 저장소의 모든 키를 리스트로 반환합니다.\n",
    "list(store.yield_keys())"
   ]
  },
  {
   "cell_type": "code",
   "execution_count": null,
   "metadata": {},
   "outputs": [],
   "source": [
    "child_retriever = vectorstore.as_retriever(\n",
    "    search_type=\"mmr\", \n",
    "    search_kwargs={\"k\": 5, \"fetch_k\": 10}\n",
    ")\n",
    "query_test = questions[8]\n",
    "print(query_test)\n",
    "pretty_print_docs(child_retriever.invoke(query_test))"
   ]
  },
  {
   "cell_type": "code",
   "execution_count": 57,
   "metadata": {},
   "outputs": [
    {
     "name": "stdout",
     "output_type": "stream",
     "text": [
      "혁신창업사업화자금(융자) 사업 집행절차는 어떻게 되나요?\n",
      "문서 1:\n",
      "\n",
      "구분: 명칭\n",
      "기금: 창업환경조성\n",
      "소관: 창업기업지원융자(기금)\n",
      "실국(기관): 혁신창업사업화자금(융자)\n",
      "계정: None\n",
      "분야: None\n",
      "부문: None\n",
      "----------------------------------------------------------------------------------------------------\n",
      "문서 2:\n",
      "\n",
      "ㅇ 추진경위 \n",
      "- 1998. 4\n",
      "외환위기 이후 창업 활성화 및 고용 창출을 위하여 지원 시작\n",
      "- 2005. 2\n",
      "업체별 연간 대출한도를 20억원으로 확대(기존 10억원)\n",
      "- 2006. 1\n",
      "지원대상을 업력 5년미만까지 확대(기존 3년미만)\n",
      "- 2008. 1\n",
      "부채비율 예외적용 기업을 업력 5년미만까지 확대(기존 3년 미만)\n",
      "- 2009. 1\n",
      "지원대상을 업력 7년 미만까지 확대(기존 5년 미만)\n",
      "- 2010. 3\n",
      "재창업자금(실패 경영인에 대한 재기지원) 신규 지원\n",
      "- 2012. 1\n",
      "지원대상을 업력 5년 미만으로 축소(기존 7년 미만)\n",
      "청년전용창업자금(만 39세 이하 청년창업자 대상) 신규 지원\n",
      "- 2014. 2\n",
      "경제혁신 3개년 계획에 반영(청년전용창업자금, 재창업자금)\n",
      "- 2014. 1\n",
      "지원대상 업력기준을 7년 미만으로 확대\n",
      "- 2015. 1\n",
      "재창업자금을 재도약지원자금(융자)의 내역사업으로 이관\n",
      "- 2019. 1\n",
      "청년전용창업자금을 혁신창업지원자금에 통합 운영\n",
      "개발기술사업화자금을 내역사업으로 통합 및 일자리창출촉진자금 신규 지원\n",
      "- 2020. 1\n",
      "미래기술육성자금, 고성장촉진자금 신규 지원\n",
      "- 2022. 1\n",
      "미래기술육성자금 및 고성장촉진자금 사업 폐지\n",
      "- 2023. 1\n",
      "창업기반지원과 신청 대상이 중복인 일자리창출촉진자금을 폐지 \n",
      "- 2023. 1\n",
      "성장공유형 대출방식 추가 (혁신창업사업화자금)\n",
      "< 국정과제 >\n",
      "< 국정목표 2. 민간이 끌고 정부가 미는 역동적 경제 >\n",
      "6. 중소·벤처기업이 경제의중심에 서는 나라\n",
      "◾(31번) 중소기업 정책을 민간주도 혁신성장의 관점에서 재설계 (중기부)\n",
      "- (금융·수출·판로 패키지) 중소기업 정책자금 확대, 수출 물류비 지원 강화 및 \n",
      "중소기업 전용 물류센터 구축, 공공분야의 혁신제품 구매 자율성 강화\n",
      "◾(32번) 예비창업부터 글로벌 유니콘까지 완결형 벤처 생태계 구현\n",
      "- 중소기업을 위한 금융지원 강화\n",
      "6. 주요내용\n",
      "ㅇ총사업비 : 해당없음\n",
      "ㅇ 사업기간 : ’98년~ 계속\n",
      "ㅇ 사업규모: ‘24년 2조 78억원\n",
      "ㅇ 사업시행방법 : 융자, 보조\n",
      "\n",
      "----------------------------------------------------------------------------------------------------\n",
      "문서 3:\n",
      "\n",
      "사   업   명\n",
      "혁신창업사업화자금(융자) (5152-301)\n",
      "1. 사업 코드 정보\n",
      "구분\n",
      "기금\n",
      "소관\n",
      "실국(기관)\n",
      "계정\n",
      "분야\n",
      "부문\n",
      "코드\n",
      "중소벤처기업\n",
      "창\n",
      "업\n",
      " 및\n",
      " 진\n",
      "흥\n",
      "기\n",
      "금\n",
      "중소벤처기업부중소기업정책실\n",
      "110\n",
      "118\n",
      "명칭\n",
      "산업·중소기업 \n",
      "및 에너지\n",
      "창업 및 벤처\n",
      "구분\n",
      "프로그램\n",
      "단위사업\n",
      "세부사업\n",
      "코드\n",
      "5100\n",
      "5152\n",
      "301\n",
      "명칭\n",
      "창업환경조성\n",
      "창업기업지원융자(기금)\n",
      "혁신창업사업화자금(융자)\n",
      "2. 사업 지원 형태 및 지원율\n",
      "직접\n",
      "출자\n",
      "출연\n",
      "보조\n",
      "융자\n",
      "국고보조율(%) 융자율 (%)\n",
      "○\n",
      "○\n",
      "3. 지출계획 총괄표\n",
      "(단위: 백만원, %)\n",
      "사업명\n",
      "2022년\n",
      "결산\n",
      "2023년\n",
      "2024년\n",
      "증감\n",
      "(B-A)\n",
      "당초(A)\n",
      "수정\n",
      "확정(B)\n",
      "(B-A)/\n",
      "A\n",
      "혁\n",
      "신\n",
      "창\n",
      "업\n",
      "사\n",
      "업\n",
      "화\n",
      "자\n",
      "금(융자)\n",
      "2,300,000\n",
      "2,230,000\n",
      "2,330,000\n",
      "2,007,800 △222,200\n",
      "△9.96\n",
      "4. 사업목적\n",
      "ㅇ (창업기반지원) 기술력과 사업성이 우수하고 미래 성장가능성이 높은 중소벤처기업의\n",
      "창업을 활성화하고 고용창출 도모\n",
      "ㅇ (개발기술사업화) 중소기업이 보유한 우수 기술의 사장을 방지하고 개발기술의\n",
      "제품화·사업화를 촉진하여 기술기반 중소기업을 육성\n",
      "5. 사업근거 및 추진경위\n",
      "ㅇ 법령상 근거 : 중소기업진흥에 관한 법률 제66조, 제67조, 제74조\n",
      "중소기업창업지원법 제35조\n",
      "\n",
      "----------------------------------------------------------------------------------------------------\n",
      "문서 4:\n",
      "\n",
      "ㅇ 사업시행주체 : 중소벤처기업진흥공단\n",
      "ㅇ 사업 수혜자 : 중소기업\n",
      "ㅇ 보조, 융자, 출연, 출자 등의 경우 보조·융자 등 지원 비율 및 법적근거\n",
      "내역사업명\n",
      "구분\n",
      "피보조․피출연 \n",
      "등 기관명\n",
      "지원 금액\n",
      "(2024 계획안)\n",
      "지원 비율(%)\n",
      "보조율 법적근거 \n",
      "(해당 조항)\n",
      "창업기반지원\n",
      "융자\n",
      "중소기업\n",
      "1조 7,958억원정책자금기준금리△0.3%p\n",
      "중소기업진흥에 \n",
      "관한 법률 제66조,\n",
      "제66조, 제67조,\n",
      "제74조\n",
      "개발기술사업화\n",
      "융자\n",
      "+보\n",
      "조\n",
      "중소기업\n",
      "2,120억원\n",
      "(융자)정책자금기준금리\n",
      "(이차보전) 최대 5.5% 이내\n",
      "중소기업진흥에 \n",
      "관한 법률 제66조,\n",
      "제66조, 제67조,\n",
      "제74조\n",
      "7. 사업 집행절차\n",
      "사업계획수립/공고\n",
      "(중기부, 중진공)\n",
      "⇨사전상담 및 신청‧접수\n",
      "(중소기업 →중진공)\n",
      "⇨\n",
      "서류 및 현장실사\n",
      "(중진공 →중소기업)\n",
      "⇩\n",
      "융자 실행\n",
      "(중진공, 은행 →중소기업) ⇦\n",
      "지원결정통보\n",
      "(중진공 →중소기업)\n",
      "⇦\n",
      "평가 및 승인\n",
      "(중진공 →중소기업)\n",
      "\n",
      "----------------------------------------------------------------------------------------------------\n",
      "문서 5:\n",
      "\n",
      "구분: 혁신창업사업화자\n",
      "금(융자)\n",
      "기금: 2,300,000\n",
      "소관: 2,230,000\n",
      "실국(기관): 2,330,000\n",
      "계정: 2,007,800\n",
      "분야: △222,200\n",
      "부문: △9.96\n"
     ]
    }
   ],
   "source": [
    "# kiwi retriever\n",
    "from langchain_teddynote.retrievers import KiwiBM25Retriever\n",
    "kiwi = KiwiBM25Retriever.from_documents(all_list)\n",
    "kiwi.k = 5\n",
    "print(query_test)\n",
    "pretty_print_docs(kiwi.invoke(query_test))"
   ]
  },
  {
   "cell_type": "code",
   "execution_count": 58,
   "metadata": {},
   "outputs": [],
   "source": [
    "### 2. Ensemble ###\n",
    "from langchain.retrievers import EnsembleRetriever\n",
    "ensemble_retriever = EnsembleRetriever(\n",
    "                    retrievers = [kiwi, child_retriever]\n",
    "                    , weights = [0.2, 0.8],\n",
    "                    search_type=\"mmr\",\n",
    "                    search_kwargs={'k':2})"
   ]
  },
  {
   "cell_type": "code",
   "execution_count": 64,
   "metadata": {},
   "outputs": [
    {
     "name": "stderr",
     "output_type": "stream",
     "text": [
      "Batches: 100%|██████████| 1/1 [00:02<00:00,  2.21s/it]\n"
     ]
    },
    {
     "name": "stdout",
     "output_type": "stream",
     "text": [
      "2022년 혁신창업사업화자금(융자)의 예산은 얼마인가요?\n",
      "문서 1:\n",
      "\n",
      "사   업   명\n",
      "혁신창업사업화자금(융자) (5152-301)\n",
      "1. 사업 코드 정보\n",
      "구분\n",
      "기금\n",
      "소관\n",
      "실국(기관)\n",
      "계정\n",
      "분야\n",
      "부문\n",
      "코드\n",
      "중소벤처기업\n",
      "창\n",
      "업\n",
      " 및\n",
      " 진\n",
      "흥\n",
      "기\n",
      "금\n",
      "중소벤처기업부중소기업정책실\n",
      "110\n",
      "118\n",
      "명칭\n",
      "산업·중소기업 \n",
      "및 에너지\n",
      "창업 및 벤처\n",
      "구분\n",
      "프로그램\n",
      "단위사업\n",
      "세부사업\n",
      "코드\n",
      "5100\n",
      "5152\n",
      "301\n",
      "명칭\n",
      "창업환경조성\n",
      "창업기업지원융자(기금)\n",
      "혁신창업사업화자금(융자)\n",
      "2. 사업 지원 형태 및 지원율\n",
      "직접\n",
      "출자\n",
      "출연\n",
      "보조\n",
      "융자\n",
      "국고보조율(%) 융자율 (%)\n",
      "○\n",
      "○\n",
      "3. 지출계획 총괄표\n",
      "(단위: 백만원, %)\n",
      "사업명\n",
      "2022년\n",
      "결산\n",
      "2023년\n",
      "2024년\n",
      "증감\n",
      "(B-A)\n",
      "당초(A)\n",
      "수정\n",
      "확정(B)\n",
      "(B-A)/\n",
      "A\n",
      "혁\n",
      "신\n",
      "창\n",
      "업\n",
      "사\n",
      "업\n",
      "화\n",
      "자\n",
      "금(융자)\n",
      "2,300,000\n",
      "2,230,000\n",
      "2,330,000\n",
      "2,007,800 △222,200\n",
      "△9.96\n",
      "4. 사업목적\n",
      "ㅇ (창업기반지원) 기술력과 사업성이 우수하고 미래 성장가능성이 높은 중소벤처기업의\n",
      "창업을 활성화하고 고용창출 도모\n",
      "ㅇ (개발기술사업화) 중소기업이 보유한 우수 기술의 사장을 방지하고 개발기술의\n",
      "제품화·사업화를 촉진하여 기술기반 중소기업을 육성\n",
      "5. 사업근거 및 추진경위\n",
      "ㅇ 법령상 근거 : 중소기업진흥에 관한 법률 제66조, 제67조, 제74조\n",
      "중소기업창업지원법 제35조\n",
      "\n",
      "----------------------------------------------------------------------------------------------------\n",
      "문서 2:\n",
      "\n",
      "사   업   명\n",
      "혁신창업사업화자금(융자) (5152-301)\n",
      "1. 사업 코드 정보\n",
      "구분\n",
      "기금\n",
      "소관\n",
      "실국(기관)\n",
      "계정\n",
      "분야\n",
      "부문\n",
      "코드\n",
      "중소벤처기업\n",
      "창\n",
      "업\n",
      " 및\n",
      " 진\n",
      "흥\n",
      "기\n",
      "금\n",
      "중소벤처기업부중소기업정책실\n",
      "110\n",
      "118\n",
      "명칭\n",
      "산업·중소기업 \n",
      "및 에너지\n",
      "창업 및 벤처\n",
      "구분\n",
      "프로그램\n",
      "단위사업\n",
      "세부사업\n",
      "코드\n",
      "5100\n",
      "5152\n",
      "301\n",
      "명칭\n",
      "창업환경조성\n",
      "창업기업지원융자(기금)\n",
      "혁신창업사업화자금(융자)\n",
      "2. 사업 지원 형태 및 지원율\n",
      "직접\n",
      "출자\n",
      "출연\n",
      "보조\n",
      "융자\n",
      "국고보조율(%) 융자율 (%)\n",
      "○\n",
      "○\n",
      "3. 지출계획 총괄표\n",
      "(단위: 백만원, %)\n",
      "사업명\n",
      "2022년\n",
      "결산\n",
      "2023년\n",
      "2024년\n",
      "증감\n",
      "(B-A)\n",
      "당초(A)\n",
      "수정\n",
      "확정(B)\n",
      "(B-A)/\n",
      "A\n",
      "혁\n",
      "신\n",
      "창\n",
      "업\n",
      "사\n",
      "업\n",
      "화\n",
      "자\n",
      "금(융자)\n",
      "2,300,000\n",
      "2,230,000\n",
      "2,330,000\n",
      "2,007,800 △222,200\n",
      "△9.96\n",
      "4. 사업목적\n",
      "ㅇ (창업기반지원) 기술력과 사업성이 우수하고 미래 성장가능성이 높은 중소벤처기업의\n",
      "창업을 활성화하고 고용창출 도모\n",
      "ㅇ (개발기술사업화) 중소기업이 보유한 우수 기술의 사장을 방지하고 개발기술의\n",
      "----------------------------------------------------------------------------------------------------\n",
      "문서 3:\n",
      "\n",
      "- 2020. 1\n",
      "미래기술육성자금, 고성장촉진자금 신규 지원\n",
      "- 2022. 1\n",
      "미래기술육성자금 및 고성장촉진자금 사업 폐지\n",
      "- 2023. 1\n",
      "창업기반지원과 신청 대상이 중복인 일자리창출촉진자금을 폐지 \n",
      "- 2023. 1\n",
      "성장공유형 대출방식 추가 (혁신창업사업화자금)\n",
      "< 국정과제 >\n",
      "< 국정목표 2. 민간이 끌고 정부가 미는 역동적 경제 >\n",
      "6. 중소·벤처기업이 경제의중심에 서는 나라\n",
      "◾(31번) 중소기업 정책을 민간주도 혁신성장의 관점에서 재설계 (중기부)\n",
      "- (금융·수출·판로 패키지) 중소기업 정책자금 확대, 수출 물류비 지원 강화 및 \n",
      "중소기업 전용 물류센터 구축, 공공분야의 혁신제품 구매 자율성 강화\n",
      "◾(32번) 예비창업부터 글로벌 유니콘까지 완결형 벤처 생태계 구현\n",
      "- 중소기업을 위한 금융지원 강화\n",
      "6. 주요내용\n",
      "ㅇ총사업비 : 해당없음\n",
      "ㅇ 사업기간 : ’98년~ 계속\n",
      "ㅇ 사업규모: ‘24년 2조 78억원\n",
      "ㅇ 사업시행방법 : 융자, 보조\n"
     ]
    }
   ],
   "source": [
    "### 3. reranker + ensemble ###\n",
    "from langchain.retrievers import ContextualCompressionRetriever\n",
    "from langchain.retrievers.document_compressors import CrossEncoderReranker\n",
    "from langchain_community.cross_encoders import HuggingFaceCrossEncoder\n",
    "\n",
    "query_test = questions[0]\n",
    "\n",
    "# 모델 초기화 \n",
    "reranker = HuggingFaceCrossEncoder(model_name=\"BAAI/bge-reranker-v2-m3\")\n",
    "\n",
    "# 상위 3개의 문서 선택\n",
    "compressor = CrossEncoderReranker(model=reranker, top_n=3)\n",
    "\n",
    "# 문서 압축 검색기 초기화\n",
    "compression_retriever = ContextualCompressionRetriever(\n",
    "    base_compressor=compressor, base_retriever=ensemble_retriever)\n",
    "\n",
    "# 압축된 문서 검색\n",
    "compressed_docs = compression_retriever.invoke(query_test)\n",
    "\n",
    "# 문서 출력\n",
    "print(query_test)\n",
    "pretty_print_docs(compressed_docs)"
   ]
  },
  {
   "cell_type": "code",
   "execution_count": null,
   "metadata": {},
   "outputs": [],
   "source": [
    "# query test\n",
    "query_test = questions[8]\n",
    "print(query_test)\n",
    "pretty_print_docs(compression_retriever.invoke(query_test))"
   ]
  },
  {
   "cell_type": "code",
   "execution_count": 67,
   "metadata": {},
   "outputs": [
    {
     "name": "stderr",
     "output_type": "stream",
     "text": [
      "Batches: 100%|██████████| 1/1 [00:02<00:00,  2.47s/it]\n"
     ]
    },
    {
     "name": "stdout",
     "output_type": "stream",
     "text": [
      "중소벤처기업부의 혁신창업사업화자금(융자) 사업근거는 어떤 법률에 근거하고 있나요?\n",
      "중소기업진흥에 관한 법률 제66조, 제67조, 제74조와 중소기업창업지원법 제35조가 사업 근거입니다."
     ]
    }
   ],
   "source": [
    "# query test2\n",
    "query_test = questions[2]\n",
    "# 문서 내용을 저장할 변수 초기화\n",
    "documents = compression_retriever.invoke(query_test)\n",
    "documents_string = \"\" \n",
    "\n",
    "for document in documents:\n",
    "    documents_string += f\"\"\"\n",
    "----------------------------\n",
    "{document.page_content}\n",
    "\"\"\"\n",
    "# Prompt    \n",
    "prompt = PromptTemplate(\n",
    "    template=\"\"\" \n",
    "    당신은 재정 정보 관련 전문가 입니다. 문서를 바탕으로 질문에 한 문장 이내로 답변하세요. \n",
    "    문서의 내용을 자르거나 편집하지 않고 그대로 가져오세요.\n",
    "    번호가 있는 경우 순서에 따른 번호를 매기지 마세요. \n",
    "    수치에 단위가 있다면 문서를 바탕으로 답변에 단위를 포함하세요.\n",
    "    질문의 키워드를 바탕으로 문서를 끝까지 자세하고 꼼꼼하게 검토하세요. \n",
    "    \n",
    "문서:\n",
    "{document}\n",
    "\n",
    "질문:\n",
    "{query}\n",
    "\n",
    "\"\"\",\n",
    "    input_variables=[\"document\", \"query\"] # 입력 변수 지정\n",
    ")\n",
    "print(query_test)\n",
    "\n",
    "result = llm([\n",
    "    HumanMessage(content=prompt.format(document=documents_string, query=query_test))\n",
    "])\n",
    "\n",
    "#print(result.content)"
   ]
  },
  {
   "cell_type": "code",
   "execution_count": 68,
   "metadata": {},
   "outputs": [
    {
     "name": "stderr",
     "output_type": "stream",
     "text": [
      "Batches: 100%|██████████| 1/1 [00:02<00:00,  2.72s/it]\n"
     ]
    },
    {
     "name": "stdout",
     "output_type": "stream",
     "text": [
      "Question: 2022년 혁신창업사업화자금(융자)의 예산은 얼마인가요?\n"
     ]
    },
    {
     "name": "stderr",
     "output_type": "stream",
     "text": [
      "Batches: 100%|██████████| 1/1 [00:03<00:00,  3.09s/it]\n"
     ]
    },
    {
     "name": "stdout",
     "output_type": "stream",
     "text": [
      "2022년 혁신창업사업화자금(융자의) 예산은 2,300,000 백만원입니다."
     ]
    },
    {
     "name": "stderr",
     "output_type": "stream",
     "text": [
      "Batches: 100%|██████████| 1/1 [00:02<00:00,  2.64s/it]6.34s/it]\n"
     ]
    },
    {
     "name": "stdout",
     "output_type": "stream",
     "text": [
      "Question: 중소벤처기업부의 혁신창업사업화자금(융자) 사업목적은 무엇인가요?\n"
     ]
    },
    {
     "name": "stderr",
     "output_type": "stream",
     "text": [
      "Batches: 100%|██████████| 1/1 [00:02<00:00,  2.73s/it]\n"
     ]
    },
    {
     "name": "stdout",
     "output_type": "stream",
     "text": [
      "중소벤처기업부의 혁신창업사업화자금(융자) 사업목적은 기술력과 사업성이 우수하고 미래 성장가능성이 높은 중소벤처기업의 창업을 활성화하고 고용창출 도모, 그리고 중소기업이 보유한 우수 기술의 사장을 방지하고 개발기술의 제품화·사업화를 촉진하여 기술기반 중소기업을 육성하는 것입니다."
     ]
    },
    {
     "name": "stderr",
     "output_type": "stream",
     "text": [
      "Batches: 100%|██████████| 1/1 [00:02<00:00,  2.71s/it]1.11s/it]\n"
     ]
    },
    {
     "name": "stdout",
     "output_type": "stream",
     "text": [
      "Question: 중소벤처기업부의 혁신창업사업화자금(융자) 사업근거는 어떤 법률에 근거하고 있나요?\n"
     ]
    },
    {
     "name": "stderr",
     "output_type": "stream",
     "text": [
      "Batches: 100%|██████████| 1/1 [00:02<00:00,  2.99s/it]\n"
     ]
    },
    {
     "name": "stdout",
     "output_type": "stream",
     "text": [
      "중소기업진흥에 관한 법률 제66조, 제67조, 제74조와 중소기업창업지원법 제35조가 사업근거입니다."
     ]
    },
    {
     "name": "stderr",
     "output_type": "stream",
     "text": [
      "Batches: 100%|██████████| 1/1 [00:02<00:00,  2.70s/it]9.45s/it]\n"
     ]
    },
    {
     "name": "stdout",
     "output_type": "stream",
     "text": [
      "Question: 2010년에 신규 지원된 혁신창업사업화자금은 무엇인가요?\n"
     ]
    },
    {
     "name": "stderr",
     "output_type": "stream",
     "text": [
      "Batches: 100%|██████████| 1/1 [00:03<00:00,  3.23s/it]\n"
     ]
    },
    {
     "name": "stdout",
     "output_type": "stream",
     "text": [
      "재창업자금(실패 경영인에 대한 재기지원)가 신규 지원되었습니다."
     ]
    },
    {
     "name": "stderr",
     "output_type": "stream",
     "text": [
      "Batches: 100%|██████████| 1/1 [00:02<00:00,  2.79s/it]7.42s/it]\n"
     ]
    },
    {
     "name": "stdout",
     "output_type": "stream",
     "text": [
      "Question: 혁신창업사업화자금 중 2020년에 신규 지원된 자금은 무엇인가요?\n"
     ]
    },
    {
     "name": "stderr",
     "output_type": "stream",
     "text": [
      "Batches: 100%|██████████| 1/1 [00:04<00:00,  4.08s/it]\n"
     ]
    },
    {
     "name": "stdout",
     "output_type": "stream",
     "text": [
      "미래기술육성자금 및 고성장촉진자금이 신규로 지원되었다."
     ]
    },
    {
     "name": "stderr",
     "output_type": "stream",
     "text": [
      "Batches: 100%|██████████| 1/1 [00:02<00:00,  2.75s/it]9.01s/it]\n"
     ]
    },
    {
     "name": "stdout",
     "output_type": "stream",
     "text": [
      "Question: 재창업자금이 재도약지원자금으로 이관된 연도는 언제인가요?\n"
     ]
    },
    {
     "name": "stderr",
     "output_type": "stream",
     "text": [
      "Batches: 100%|██████████| 1/1 [00:03<00:00,  3.63s/it]\n"
     ]
    },
    {
     "name": "stdout",
     "output_type": "stream",
     "text": [
      "2015년 1월 재창업자금이 재도약지원자금(융자)의 내역사업으로 이관되었습니다."
     ]
    },
    {
     "name": "stderr",
     "output_type": "stream",
     "text": [
      "Batches: 100%|██████████| 1/1 [00:02<00:00,  2.93s/it]6.37s/it]\n"
     ]
    },
    {
     "name": "stdout",
     "output_type": "stream",
     "text": [
      "Question: 창업기반지원과 신청 대상이 중복인 자금이 어떤 것이며, 이 자금이 폐지된 연도는 언제인가요?\n"
     ]
    },
    {
     "name": "stderr",
     "output_type": "stream",
     "text": [
      "Batches: 100%|██████████| 1/1 [00:02<00:00,  2.96s/it]\n"
     ]
    },
    {
     "name": "stdout",
     "output_type": "stream",
     "text": [
      "일자리창출촉진자금은 창업기반지원과 신청 대상이 중복인 자금이며, 2023년 1월에 폐지되었습니다."
     ]
    },
    {
     "name": "stderr",
     "output_type": "stream",
     "text": [
      "Batches: 100%|██████████| 1/1 [00:02<00:00,  2.93s/it]6.88s/it]\n"
     ]
    },
    {
     "name": "stdout",
     "output_type": "stream",
     "text": [
      "Question: 혁신창업사업화자금(융자) 사업을 시행하는 주체는 누구인가요?\n"
     ]
    },
    {
     "name": "stderr",
     "output_type": "stream",
     "text": [
      "Batches: 100%|██████████| 1/1 [00:03<00:00,  3.11s/it]\n"
     ]
    },
    {
     "name": "stdout",
     "output_type": "stream",
     "text": [
      "사업시행주체 : 중소벤처기업진흥공단입니다."
     ]
    },
    {
     "name": "stderr",
     "output_type": "stream",
     "text": [
      "Batches: 100%|██████████| 1/1 [00:02<00:00,  2.89s/it]5.96s/it]\n"
     ]
    },
    {
     "name": "stdout",
     "output_type": "stream",
     "text": [
      "Question: 혁신창업사업화자금(융자) 사업 집행절차는 어떻게 되나요?\n"
     ]
    },
    {
     "name": "stderr",
     "output_type": "stream",
     "text": [
      "Batches: 100%|██████████| 1/1 [00:01<00:00,  1.90s/it]\n"
     ]
    },
    {
     "name": "stdout",
     "output_type": "stream",
     "text": [
      "사업계획수립/공고 → 사전상담 및 신청‧접수 → 서류 및 현장실사 → 융자 실행 → 지원결정통보 → 평가 및 승인 순으로 진행됩니다."
     ]
    },
    {
     "name": "stderr",
     "output_type": "stream",
     "text": [
      "Batches: 100%|██████████| 1/1 [00:02<00:00,  2.98s/it]1.62s/it]\n"
     ]
    },
    {
     "name": "stdout",
     "output_type": "stream",
     "text": [
      "Question: 부모급여 지원 사업의 목적은 무엇인가요?\n"
     ]
    },
    {
     "name": "stderr",
     "output_type": "stream",
     "text": [
      "Batches: 100%|██████████| 1/1 [00:03<00:00,  3.14s/it]\n"
     ]
    },
    {
     "name": "stdout",
     "output_type": "stream",
     "text": [
      "출산 및 양육으로 손실되는 소득을 보전하고, 주 양육자의 직접돌봄이 중인 아동발달의 특성에 따라 영아기 돌봄을 두텁게 지원하기 위해 부모급여 지급을 목적으로 합니다."
     ]
    },
    {
     "name": "stderr",
     "output_type": "stream",
     "text": [
      "Batches: 100%|██████████| 1/1 [00:02<00:00,  2.93s/it]72.67s/it]\n"
     ]
    },
    {
     "name": "stdout",
     "output_type": "stream",
     "text": [
      "Question: 부모급여(영아수당)의 2024년 확정된 예산은 몇백만원인가요?\n"
     ]
    },
    {
     "name": "stderr",
     "output_type": "stream",
     "text": [
      "Batches: 100%|██████████| 1/1 [00:02<00:00,  2.47s/it]\n"
     ]
    },
    {
     "name": "stdout",
     "output_type": "stream",
     "text": [
      "2,888,694 백만원입니다."
     ]
    },
    {
     "name": "stderr",
     "output_type": "stream",
     "text": [
      "Batches: 100%|██████████| 1/1 [00:02<00:00,  3.00s/it]62.43s/it]\n"
     ]
    },
    {
     "name": "stdout",
     "output_type": "stream",
     "text": [
      "Question: 부모급여 지원 사업은 어떤 법령상 근거를 갖고 추진되고 있나요?\n"
     ]
    },
    {
     "name": "stderr",
     "output_type": "stream",
     "text": [
      "Batches: 100%|██████████| 1/1 [00:03<00:00,  3.23s/it]\n"
     ]
    },
    {
     "name": "stdout",
     "output_type": "stream",
     "text": [
      "아동수당법 제4조제5항을 근거로 부모급여 지원 사업이 추진되고 있습니다."
     ]
    },
    {
     "name": "stderr",
     "output_type": "stream",
     "text": [
      "Batches: 100%|██████████| 1/1 [00:03<00:00,  3.05s/it]67.51s/it]\n"
     ]
    },
    {
     "name": "stdout",
     "output_type": "stream",
     "text": [
      "Question: 영아수당 도입에 대한 추진경위는 어떻게 되나요?\n"
     ]
    },
    {
     "name": "stderr",
     "output_type": "stream",
     "text": [
      "Batches: 100%|██████████| 1/1 [00:03<00:00,  3.15s/it]\n"
     ]
    },
    {
     "name": "stdout",
     "output_type": "stream",
     "text": [
      "영아수당 도입은 ｢제4차 저출산‧고령사회 기본계획｣의 5대 핵심과제 중 하나로 ’20.12.에 시작되었으며, 예비타당성조사 통과(’21.8.)와 근거법 마련(’21.12.)을 거쳐 영아수당 지원사업이 ’22.1~부터 시행되었습니다."
     ]
    },
    {
     "name": "stderr",
     "output_type": "stream",
     "text": [
      "Batches: 100%|██████████| 1/1 [00:02<00:00,  2.84s/it]73.30s/it]\n"
     ]
    },
    {
     "name": "stdout",
     "output_type": "stream",
     "text": [
      "Question: 부모급여 지원사업은 언제부터 시행되었나요?\n"
     ]
    },
    {
     "name": "stderr",
     "output_type": "stream",
     "text": [
      "Batches: 100%|██████████| 1/1 [00:02<00:00,  2.91s/it]\n"
     ]
    },
    {
     "name": "stdout",
     "output_type": "stream",
     "text": [
      "부모급여 지원사업은 '23년 1월부터 시행되었습니다."
     ]
    },
    {
     "name": "stderr",
     "output_type": "stream",
     "text": [
      "Batches: 100%|██████████| 1/1 [00:02<00:00,  2.91s/it]204.48s/it]\n"
     ]
    },
    {
     "name": "stdout",
     "output_type": "stream",
     "text": [
      "Question: 보건복지부의 부모급여(영아수당) 지원 사업시행방법은 무엇이며, 사업 수혜자는 누구인가?\n"
     ]
    },
    {
     "name": "stderr",
     "output_type": "stream",
     "text": [
      "Batches: 100%|██████████| 1/1 [00:03<00:00,  3.40s/it]\n"
     ]
    },
    {
     "name": "stdout",
     "output_type": "stream",
     "text": [
      "보건복지부의 부모급여(영아수당) 지원 사업시행방법은 지자체 보조이고, 사업 수혜자는 만 0~1세 아동입니다."
     ]
    },
    {
     "name": "stderr",
     "output_type": "stream",
     "text": [
      "Batches: 100%|██████████| 1/1 [00:02<00:00,  2.41s/it]200.12s/it]\n"
     ]
    },
    {
     "name": "stdout",
     "output_type": "stream",
     "text": [
      "Question: 노인장기요양보험 사업 운영에 대한 목적은 무엇인가요?\n"
     ]
    },
    {
     "name": "stderr",
     "output_type": "stream",
     "text": [
      "Batches: 100%|██████████| 1/1 [00:03<00:00,  3.02s/it]\n"
     ]
    },
    {
     "name": "stdout",
     "output_type": "stream",
     "text": [
      "노인장기요양보험 사업 운영의 목적은 장기요양급여가 원활히 제공될 수 있도록 공단에 필요한 행정적 또는 재정적 지원을 함으로써 노인의 건강한 삶을 지원하는 것입니다."
     ]
    },
    {
     "name": "stderr",
     "output_type": "stream",
     "text": [
      "Batches: 100%|██████████| 1/1 [00:03<00:00,  3.09s/it]157.85s/it]\n"
     ]
    },
    {
     "name": "stdout",
     "output_type": "stream",
     "text": [
      "Question: 노인장기요양보험 운영지원에 대한 사업 내용을 설명해줘.\n"
     ]
    },
    {
     "name": "stderr",
     "output_type": "stream",
     "text": [
      "Batches: 100%|██████████| 1/1 [00:02<00:00,  2.38s/it]\n"
     ]
    },
    {
     "name": "stdout",
     "output_type": "stream",
     "text": [
      "노인장기요양보험 운영지원은 「노인장기요양보험법」제58조에 따라 국가가 국민건강보험공단에 지원하는 법정지원금(장기요양보험료 예상수입액의 20% 상당)으로, 노인의 건강증진 및 생활 안정을 도모하고 가족의 부담을 완화하여 국민 삶의 질을 향상시키는 것을 목적으로 한다."
     ]
    },
    {
     "name": "stderr",
     "output_type": "stream",
     "text": [
      "Batches: 100%|██████████| 1/1 [00:04<00:00,  4.06s/it]128.39s/it]\n"
     ]
    },
    {
     "name": "stdout",
     "output_type": "stream",
     "text": [
      "Question: 국고지원을 받는 기타 의료급여수급권자는 누구인가요?\n"
     ]
    },
    {
     "name": "stderr",
     "output_type": "stream",
     "text": [
      "Batches: 100%|██████████| 1/1 [00:04<00:00,  4.96s/it]\n"
     ]
    },
    {
     "name": "stdout",
     "output_type": "stream",
     "text": [
      "「보조금 관리에 관한 법률 시행령」별표 1의 기초생활보장수급자 의료급여 기준 보조율에 따른 금액을 국가가 부담하는 경우, 기타 의료급여수급권자는 기초생활보장수급자가 아닐 때이다."
     ]
    },
    {
     "name": "stderr",
     "output_type": "stream",
     "text": [
      "Batches: 100%|██████████| 1/1 [00:02<00:00,  2.98s/it]117.26s/it]\n"
     ]
    },
    {
     "name": "stdout",
     "output_type": "stream",
     "text": [
      "Question: 장기요양보험가입자 및 피부양자의 자격취득과 관련하여 어떤 법률을 준용해야 하는가?\n"
     ]
    },
    {
     "name": "stderr",
     "output_type": "stream",
     "text": [
      "Batches: 100%|██████████| 1/1 [00:03<00:00,  3.01s/it]\n"
     ]
    },
    {
     "name": "stdout",
     "output_type": "stream",
     "text": [
      "노인장기요양보험법 제11조(장기요양보험가입자·피부양자의 자격취득 등)에 따르면, 장기요양보험가입자 및 피부양자의 자격취득과 관련하여 「국민건강보험법」제5조, 제6조, 제8조부터 제11조까지, 제69조제1항부터 제3항까지, 제76조부터 제86조까지 및 제110조를 준용한다."
     ]
    },
    {
     "name": "stderr",
     "output_type": "stream",
     "text": [
      "Batches: 100%|██████████| 1/1 [00:03<00:00,  3.06s/it]115.52s/it]\n"
     ]
    },
    {
     "name": "stdout",
     "output_type": "stream",
     "text": [
      "Question: 노인장기요양보험법이 언제 제정되고 공포되었나?\n"
     ]
    },
    {
     "name": "stderr",
     "output_type": "stream",
     "text": [
      "Batches: 100%|██████████| 1/1 [00:03<00:00,  3.35s/it]\n"
     ]
    },
    {
     "name": "stdout",
     "output_type": "stream",
     "text": [
      "노인장기요양보험법은 2007년 12월 31일 제정되어 2008년 1월 2일에 공포되었습니다."
     ]
    },
    {
     "name": "stderr",
     "output_type": "stream",
     "text": [
      "Batches: 100%|██████████| 1/1 [00:02<00:00,  2.90s/it]102.63s/it]\n"
     ]
    },
    {
     "name": "stdout",
     "output_type": "stream",
     "text": [
      "Question: 장기요양인정점수 완화가 언제 이루어졌으며, 어떤 변화가 있었나?\n"
     ]
    },
    {
     "name": "stderr",
     "output_type": "stream",
     "text": [
      "Batches: 100%|██████████| 1/1 [00:03<00:00,  3.12s/it]\n"
     ]
    },
    {
     "name": "stdout",
     "output_type": "stream",
     "text": [
      "장기요양인정점수 완화는 2022년 10월에 이루어졌으며, 요양보호사 인력배치기준이 개선되어 요양보호사 1명당 시설수급자 2.3명으로 변경되었습니다."
     ]
    },
    {
     "name": "stderr",
     "output_type": "stream",
     "text": [
      "Batches: 100%|██████████| 1/1 [00:03<00:00,  3.58s/it]85.60s/it] \n"
     ]
    },
    {
     "name": "stdout",
     "output_type": "stream",
     "text": [
      "Question: 장기요양기관 지정갱신제의 법적 근거가 언제 마련되었는가?\n"
     ]
    },
    {
     "name": "stderr",
     "output_type": "stream",
     "text": [
      "Batches: 100%|██████████| 1/1 [00:02<00:00,  2.97s/it]\n"
     ]
    },
    {
     "name": "stdout",
     "output_type": "stream",
     "text": [
      "장기요양기관 지정갱신제의 법적 근거는 2018년 12월에 마련되었다."
     ]
    },
    {
     "name": "stderr",
     "output_type": "stream",
     "text": [
      "Batches: 100%|██████████| 1/1 [00:02<00:00,  2.82s/it]77.76s/it]\n"
     ]
    },
    {
     "name": "stdout",
     "output_type": "stream",
     "text": [
      "Question: 22.10월에 요양보호사 1명당 시설수급자 인력배치기준이 개선된 내용은 무엇인가?\n"
     ]
    },
    {
     "name": "stderr",
     "output_type": "stream",
     "text": [
      "Batches: 100%|██████████| 1/1 [00:04<00:00,  4.18s/it]\n"
     ]
    },
    {
     "name": "stdout",
     "output_type": "stream",
     "text": [
      "요양보호사 1명당 시설수급자 인력배치기준이 개선되어 요양보호사 1명당 시설수급자가 2.5명에서 2.3명으로 줄어들었습니다."
     ]
    },
    {
     "name": "stderr",
     "output_type": "stream",
     "text": [
      "Batches: 100%|██████████| 1/1 [00:02<00:00,  2.95s/it]79.99s/it]\n"
     ]
    },
    {
     "name": "stdout",
     "output_type": "stream",
     "text": [
      "Question: 에너지 바우처 제도의 주요 내용은 무엇인가요?\n"
     ]
    },
    {
     "name": "stderr",
     "output_type": "stream",
     "text": [
      "Batches: 100%|██████████| 1/1 [00:03<00:00,  3.18s/it]\n"
     ]
    },
    {
     "name": "stdout",
     "output_type": "stream",
     "text": [
      "에너지 소외 계층에게 전기·가스·지역난방 등 에너지 이용에 필요한 비용을 지원하는 제도로, 하절기바우처와 동절기바우처, 연탄쿠폰, 등유바우처를 포함한다."
     ]
    },
    {
     "name": "stderr",
     "output_type": "stream",
     "text": [
      "Batches: 100%|██████████| 1/1 [00:02<00:00,  2.94s/it]82.02s/it]\n"
     ]
    },
    {
     "name": "stdout",
     "output_type": "stream",
     "text": [
      "Question: 에너지바우처 사업의 주요 수혜자는 누구인가요?\n"
     ]
    },
    {
     "name": "stderr",
     "output_type": "stream",
     "text": [
      "Batches: 100%|██████████| 1/1 [00:03<00:00,  3.35s/it]\n"
     ]
    },
    {
     "name": "stdout",
     "output_type": "stream",
     "text": [
      "에너지바우처 사업의 주요 수혜자는 기초생활수급자, 차상위계층, 기타 소외계층, 중증‧희귀‧중증난치질환자, 한부모, 소년소녀가정 세대 등 에너지 소외계층이다."
     ]
    },
    {
     "name": "stderr",
     "output_type": "stream",
     "text": [
      "Batches: 100%|██████████| 1/1 [00:02<00:00,  2.74s/it]81.24s/it]\n"
     ]
    },
    {
     "name": "stdout",
     "output_type": "stream",
     "text": [
      "Question: 2024년 에너지바우처 사업의 사업시행주체는 무엇인가요?\n"
     ]
    },
    {
     "name": "stderr",
     "output_type": "stream",
     "text": [
      "Batches: 100%|██████████| 1/1 [00:04<00:00,  4.03s/it]\n"
     ]
    },
    {
     "name": "stdout",
     "output_type": "stream",
     "text": [
      "한국에너지공단과 한국광해광업공단이 2024년 에너지바우처 사업의 사업시행주체입니다."
     ]
    },
    {
     "name": "stderr",
     "output_type": "stream",
     "text": [
      "Batches: 100%|██████████| 1/1 [00:03<00:00,  3.03s/it]78.71s/it]\n"
     ]
    },
    {
     "name": "stdout",
     "output_type": "stream",
     "text": [
      "Question: 하절기바우처와 동절기바우처의 2024년 예산 규모는 각각 얼마인가요?\n"
     ]
    },
    {
     "name": "stderr",
     "output_type": "stream",
     "text": [
      "Batches: 100%|██████████| 1/1 [00:02<00:00,  2.93s/it]\n"
     ]
    },
    {
     "name": "stdout",
     "output_type": "stream",
     "text": [
      "하절기바우처의 2024년 예산 규모는 60,950백만원이며, 동절기바우처의 2024년 예산 규모는 600,521백만원입니다."
     ]
    },
    {
     "name": "stderr",
     "output_type": "stream",
     "text": [
      "Batches: 100%|██████████| 1/1 [00:03<00:00,  3.19s/it]82.36s/it]\n"
     ]
    },
    {
     "name": "stdout",
     "output_type": "stream",
     "text": [
      "Question: 2023년 에너지바우처 사업 예산에서 사업운영비 중 에너지복지 홍보에 얼마가 할당되었나요?\n"
     ]
    },
    {
     "name": "stderr",
     "output_type": "stream",
     "text": [
      "Batches: 100%|██████████| 1/1 [00:02<00:00,  2.47s/it]\n"
     ]
    },
    {
     "name": "stdout",
     "output_type": "stream",
     "text": [
      "328백만원이 에너지복지 홍보로 할당되었습니다."
     ]
    },
    {
     "name": "stderr",
     "output_type": "stream",
     "text": [
      "Batches: 100%|██████████| 1/1 [00:02<00:00,  2.99s/it]77.10s/it]\n"
     ]
    },
    {
     "name": "stdout",
     "output_type": "stream",
     "text": [
      "Question: 2023년 에너지바우처 사업 예산에서 사업운영비 중 시스템 고도화에 얼마가 할당되었나요?\n"
     ]
    },
    {
     "name": "stderr",
     "output_type": "stream",
     "text": [
      "Batches: 100%|██████████| 1/1 [00:03<00:00,  3.62s/it]\n"
     ]
    },
    {
     "name": "stdout",
     "output_type": "stream",
     "text": [
      "520백만원이 시스템 고도화에 할당되었습니다."
     ]
    },
    {
     "name": "stderr",
     "output_type": "stream",
     "text": [
      "Batches: 100%|██████████| 1/1 [00:03<00:00,  3.47s/it]72.55s/it]\n"
     ]
    },
    {
     "name": "stdout",
     "output_type": "stream",
     "text": [
      "Question: 2023년 에너지바우처 사업 예산에서 콜센터 운영에 얼마가 할당되었나요?\n"
     ]
    },
    {
     "name": "stderr",
     "output_type": "stream",
     "text": [
      "Batches: 100%|██████████| 1/1 [00:03<00:00,  3.25s/it]\n"
     ]
    },
    {
     "name": "stdout",
     "output_type": "stream",
     "text": [
      "콜센터 운영 비용은 280백만원이 할당되었습니다."
     ]
    },
    {
     "name": "stderr",
     "output_type": "stream",
     "text": [
      "Batches: 100%|██████████| 1/1 [00:02<00:00,  2.64s/it]70.48s/it]\n"
     ]
    },
    {
     "name": "stdout",
     "output_type": "stream",
     "text": [
      "Question: 2023년 에너지바우처 사업 예산에서 패널조사에 얼마가 할당되었나요?\n"
     ]
    },
    {
     "name": "stderr",
     "output_type": "stream",
     "text": [
      "Batches: 100%|██████████| 1/1 [00:03<00:00,  3.09s/it]\n"
     ]
    },
    {
     "name": "stdout",
     "output_type": "stream",
     "text": [
      "133.5백만원이 할당되었습니다."
     ]
    },
    {
     "name": "stderr",
     "output_type": "stream",
     "text": [
      "Batches: 100%|██████████| 1/1 [00:02<00:00,  2.94s/it]63.04s/it]\n"
     ]
    },
    {
     "name": "stdout",
     "output_type": "stream",
     "text": [
      "Question: 2023년 에너지바우처 사업 예산에서 에너지바우처 전달체계 구축에 얼마가 할당되었나요?\n"
     ]
    },
    {
     "name": "stderr",
     "output_type": "stream",
     "text": [
      "Batches: 100%|██████████| 1/1 [00:03<00:00,  3.10s/it]\n"
     ]
    },
    {
     "name": "stdout",
     "output_type": "stream",
     "text": [
      "37.5백만원이 에너지바우처 전달체계 구축에 할당되었습니다."
     ]
    },
    {
     "name": "stderr",
     "output_type": "stream",
     "text": [
      "Batches: 100%|██████████| 1/1 [00:02<00:00,  2.58s/it].13s/it]  \n"
     ]
    },
    {
     "name": "stdout",
     "output_type": "stream",
     "text": [
      "Question: 2023년 에너지바우처 사업 예산에서 주택관리공단 운영지원에 얼마가 할당되었나요?\n"
     ]
    },
    {
     "name": "stderr",
     "output_type": "stream",
     "text": [
      "Batches: 100%|██████████| 1/1 [00:03<00:00,  3.32s/it]\n"
     ]
    },
    {
     "name": "stdout",
     "output_type": "stream",
     "text": [
      "주택관리공단 운영지원에 50백만원이 할당되었습니다."
     ]
    },
    {
     "name": "stderr",
     "output_type": "stream",
     "text": [
      "Batches: 100%|██████████| 1/1 [00:02<00:00,  2.83s/it]61.71s/it]\n"
     ]
    },
    {
     "name": "stdout",
     "output_type": "stream",
     "text": [
      "Question: 에너지바우처 사업의 향후 기대효과는 무엇인가요?\n"
     ]
    },
    {
     "name": "stderr",
     "output_type": "stream",
     "text": [
      "Batches: 100%|██████████| 1/1 [00:03<00:00,  3.79s/it]\n"
     ]
    },
    {
     "name": "stdout",
     "output_type": "stream",
     "text": [
      "저소득층의 적정수준 에너지 접근성이 높아지고, 취약계층의 에너지 비용 부담 경감(약 115만 세대, 세대당 평균 36.7만원 내외)가 기대됩니다."
     ]
    },
    {
     "name": "stderr",
     "output_type": "stream",
     "text": [
      "Batches: 100%|██████████| 1/1 [00:02<00:00,  2.72s/it]68.65s/it]\n"
     ]
    },
    {
     "name": "stdout",
     "output_type": "stream",
     "text": [
      "Question: 에너지바우처 사업에 대한 예비타당성조사를 어떤 조사기관이 수행했나요?\n"
     ]
    },
    {
     "name": "stderr",
     "output_type": "stream",
     "text": [
      "Batches: 100%|██████████| 1/1 [00:03<00:00,  3.36s/it]\n"
     ]
    },
    {
     "name": "stdout",
     "output_type": "stream",
     "text": [
      "KDI(한국개발연구원 공공투자관리센터)가 2014년 8월 에너지바우처 지원사업(2014년도 예비타당성조사 보고서)에 대한 예비타당성 조사 수행했습니다."
     ]
    },
    {
     "name": "stderr",
     "output_type": "stream",
     "text": [
      "Batches: 100%|██████████| 1/1 [00:02<00:00,  2.88s/it]74.87s/it]\n"
     ]
    },
    {
     "name": "stdout",
     "output_type": "stream",
     "text": [
      "Question: 21년 국정감사에서 에너지 바우처 사업에 대한 주요 지적사항은 무엇이었나요?\n"
     ]
    },
    {
     "name": "stderr",
     "output_type": "stream",
     "text": [
      "Batches: 100%|██████████| 1/1 [00:03<00:00,  3.13s/it]\n"
     ]
    },
    {
     "name": "stdout",
     "output_type": "stream",
     "text": [
      "저소득층의 폭염 피해 최소화를 위해 동절기 에너지바우처 일부를 하절기에 사용할 수 있도록 제도 개선할 것이라는 지적사항이 21년 국정감사에서 에너지 바우처 사업에 대한 주요 지적사항으로 나왔습니다."
     ]
    },
    {
     "name": "stderr",
     "output_type": "stream",
     "text": [
      "Batches: 100%|██████████| 1/1 [00:02<00:00,  2.66s/it]77.36s/it]\n"
     ]
    },
    {
     "name": "stdout",
     "output_type": "stream",
     "text": [
      "Question: 21년 에너지바우처 사업에 대한 결산 지적사항은 무엇이었나요?\n"
     ]
    },
    {
     "name": "stderr",
     "output_type": "stream",
     "text": [
      "Batches: 100%|██████████| 1/1 [00:03<00:00,  3.57s/it]\n"
     ]
    },
    {
     "name": "stdout",
     "output_type": "stream",
     "text": [
      "수급자 변경 등으로 예산부족이 발생하지 않도록 급여 선정기준 등의 변경계획 등을 사전에 확인하여 지원대상 변동 등이 예산편성시 신속히 반영되도록 할 계획입니다."
     ]
    },
    {
     "name": "stderr",
     "output_type": "stream",
     "text": [
      "Batches: 100%|██████████| 1/1 [00:02<00:00,  2.99s/it]73.77s/it]\n"
     ]
    },
    {
     "name": "stdout",
     "output_type": "stream",
     "text": [
      "Question: 에너지 바우처 사업의 향후 추진방향 중 '취약계층의 에너지 비용 부담 완화'를 위한 계획은 무엇이었나요?\n"
     ]
    },
    {
     "name": "stderr",
     "output_type": "stream",
     "text": [
      "Batches: 100%|██████████| 1/1 [00:04<00:00,  4.09s/it]\n"
     ]
    },
    {
     "name": "stdout",
     "output_type": "stream",
     "text": [
      "폭염 및 한파 등 기후변화와 에너지가격 상승에 따른 취약계층의 에너지 비용 부담 완화를 위해 지속적 지원단가 현실화 추진을 계획하고 있습니다."
     ]
    },
    {
     "name": "stderr",
     "output_type": "stream",
     "text": [
      "Batches: 100%|██████████| 1/1 [00:02<00:00,  2.56s/it]131.27s/it]\n"
     ]
    },
    {
     "name": "stdout",
     "output_type": "stream",
     "text": [
      "Question: 행복주택출자 사업은 어떤 근거로 추진되고 있는가?\n"
     ]
    },
    {
     "name": "stderr",
     "output_type": "stream",
     "text": [
      "Batches: 100%|██████████| 1/1 [00:03<00:00,  3.62s/it]\n"
     ]
    },
    {
     "name": "stdout",
     "output_type": "stream",
     "text": [
      "행복주택 출자 사업은 주택도시기금법 제9조제1항 가목과 공공주택특별법 제2조 1호 가목의 근거로 추진되고 있습니다."
     ]
    },
    {
     "name": "stderr",
     "output_type": "stream",
     "text": [
      "Batches: 100%|██████████| 1/1 [00:03<00:00,  3.02s/it], 114.90s/it]\n"
     ]
    },
    {
     "name": "stdout",
     "output_type": "stream",
     "text": [
      "Question: 행복주택출자 사업은 어떤 목적으로 시행되는가?\n"
     ]
    },
    {
     "name": "stderr",
     "output_type": "stream",
     "text": [
      "Batches: 100%|██████████| 1/1 [00:03<00:00,  3.44s/it]\n"
     ]
    },
    {
     "name": "stdout",
     "output_type": "stream",
     "text": [
      "국민의 행복주거 실현을 위한 보편적 주거복지 정책의 일환으로 도심 내 다양한 부지를 활용하여 행복주택을 공급하는 목적으로 시행된다."
     ]
    },
    {
     "name": "stderr",
     "output_type": "stream",
     "text": [
      "Batches: 100%|██████████| 1/1 [00:03<00:00,  3.01s/it], 101.50s/it]\n"
     ]
    },
    {
     "name": "stdout",
     "output_type": "stream",
     "text": [
      "Question: 행복주택출자 사업의 주요 수혜자는 누구인가?\n"
     ]
    },
    {
     "name": "stderr",
     "output_type": "stream",
     "text": [
      "Batches: 100%|██████████| 1/1 [00:03<00:00,  3.13s/it]\n"
     ]
    },
    {
     "name": "stdout",
     "output_type": "stream",
     "text": [
      "행복주택출자 사업의 주요 수혜자는 대학생, 사회 초년생 및 신혼부부 등 젊은 층(80%)과 고령자 및 주거 취약계층(20%)이다."
     ]
    },
    {
     "name": "stderr",
     "output_type": "stream",
     "text": [
      "Batches: 100%|██████████| 1/1 [00:02<00:00,  2.59s/it], 84.73s/it] \n"
     ]
    },
    {
     "name": "stdout",
     "output_type": "stream",
     "text": [
      "Question: 행복주택출자 사업의 사업비 추이는 어떠한가?\n"
     ]
    },
    {
     "name": "stderr",
     "output_type": "stream",
     "text": [
      "Batches: 100%|██████████| 1/1 [00:02<00:00,  2.94s/it]\n"
     ]
    },
    {
     "name": "stdout",
     "output_type": "stream",
     "text": [
      "행복주택출자 사업의 최근 5년 간 투입된 사업비(예산액기준)는 2020년 1,267,123만원, 2021년 1,105,291만원, 2022년 775,293만원, 2023년 684,607만원, 2024년 528,783만원이다."
     ]
    },
    {
     "name": "stderr",
     "output_type": "stream",
     "text": [
      "Batches: 100%|██████████| 1/1 [00:02<00:00,  2.81s/it], 69.50s/it]\n"
     ]
    },
    {
     "name": "stdout",
     "output_type": "stream",
     "text": [
      "Question: 행복주택출자 사업의 사업시행주체는 누구인가?\n"
     ]
    },
    {
     "name": "stderr",
     "output_type": "stream",
     "text": [
      "Batches: 100%|██████████| 1/1 [00:03<00:00,  3.06s/it]\n"
     ]
    },
    {
     "name": "stdout",
     "output_type": "stream",
     "text": [
      "한국토지주택공사(LH)와 지자체(지방공사)가 공동으로 사업을 추진합니다."
     ]
    },
    {
     "name": "stderr",
     "output_type": "stream",
     "text": [
      "Batches: 100%|██████████| 1/1 [00:02<00:00,  2.83s/it], 65.82s/it]\n"
     ]
    },
    {
     "name": "stdout",
     "output_type": "stream",
     "text": [
      "Question: 국고보조사업의 보조율은 어떠한 기준에 따라 운용되는가?\n"
     ]
    },
    {
     "name": "stderr",
     "output_type": "stream",
     "text": [
      "Batches: 100%|██████████| 1/1 [00:03<00:00,  3.34s/it]\n"
     ]
    },
    {
     "name": "stdout",
     "output_type": "stream",
     "text": [
      "국고보조사업의 보조율은 「보조금법」과 함께 일부 개별 법령에 근거하여 운영되며, 보조금법에 의해 지방자치단체의 재정여건을 고려하여 기준보조율과 차등보조율을 적용하여 운용된다."
     ]
    },
    {
     "name": "stderr",
     "output_type": "stream",
     "text": [
      "Batches: 100%|██████████| 1/1 [00:02<00:00,  2.99s/it], 72.49s/it]\n"
     ]
    },
    {
     "name": "stdout",
     "output_type": "stream",
     "text": [
      "Question: 프랑스의 재정조정제도에서 최근 강조되는 형평교부금은 어떤 역할을 하는가?\n"
     ]
    },
    {
     "name": "stderr",
     "output_type": "stream",
     "text": [
      "Batches: 100%|██████████| 1/1 [00:03<00:00,  3.11s/it]\n"
     ]
    },
    {
     "name": "stdout",
     "output_type": "stream",
     "text": [
      "수평적 형평교부금의 역할이 강조되면서 중앙정부의 재정적자로 인한 정부 간 재원불균형을 조정해 주는 형평화로 구분할 수 있음."
     ]
    },
    {
     "name": "stderr",
     "output_type": "stream",
     "text": [
      "Batches: 100%|██████████| 1/1 [00:02<00:00,  2.91s/it], 77.05s/it]\n"
     ]
    },
    {
     "name": "stdout",
     "output_type": "stream",
     "text": [
      "Question: 지방재정조정제도의 목적은 무엇인가?\n"
     ]
    },
    {
     "name": "stderr",
     "output_type": "stream",
     "text": [
      "Batches: 100%|██████████| 1/1 [00:03<00:00,  3.43s/it]\n"
     ]
    },
    {
     "name": "stdout",
     "output_type": "stream",
     "text": [
      "지방재정조정제도의 목적은 정부 간 재원이전을 통해 지역 간 산업 혹은 경제 기반의 차이에 따른 재정 불균형을 완화하여 지방정부가 본연의 기능을 수행하고 국가 균형발전이 가능하게 하는 것이다."
     ]
    },
    {
     "name": "stderr",
     "output_type": "stream",
     "text": [
      "Batches: 100%|██████████| 1/1 [00:02<00:00,  2.67s/it], 76.92s/it]\n"
     ]
    },
    {
     "name": "stdout",
     "output_type": "stream",
     "text": [
      "Question: 국제적으로 성과중심 재정관리 강화 움직임이 확산된 시기는 언제인가?\n"
     ]
    },
    {
     "name": "stderr",
     "output_type": "stream",
     "text": [
      "Batches: 100%|██████████| 1/1 [00:03<00:00,  3.24s/it]\n"
     ]
    },
    {
     "name": "stdout",
     "output_type": "stream",
     "text": [
      "2007년 기준, 70% 이상의 OECD 국가에서 예결산 문서에 비재무적 성과정보를 포함했다고 합니다."
     ]
    },
    {
     "name": "stderr",
     "output_type": "stream",
     "text": [
      "Batches: 100%|██████████| 1/1 [00:02<00:00,  2.86s/it], 76.70s/it]\n"
     ]
    },
    {
     "name": "stdout",
     "output_type": "stream",
     "text": [
      "Question: 한국의 재정사업 성과관리제도는 어떠한 법을 통해 운영되고 있으며, 성과관리 기본계획과 추진계획은 어떻게 의무화되었는가?\n"
     ]
    },
    {
     "name": "stderr",
     "output_type": "stream",
     "text": [
      "Batches: 100%|██████████| 1/1 [00:03<00:00,  3.26s/it]\n"
     ]
    },
    {
     "name": "stdout",
     "output_type": "stream",
     "text": [
      "한국의 재정사업 성과관리제도는 '21년 12월 개정된 「국가재정법」을 통해 운영되고 있으며, 성과관리 기본계획(5개년) 및 추진계획(연간)은 의무화되었다."
     ]
    },
    {
     "name": "stderr",
     "output_type": "stream",
     "text": [
      "Batches: 100%|██████████| 1/1 [00:02<00:00,  2.93s/it], 80.57s/it]\n"
     ]
    },
    {
     "name": "stdout",
     "output_type": "stream",
     "text": [
      "Question: 핵심재정사업 성과관리제도를 안착시키기 위해 필요한 노력과 성과 정보를 학습의 도구로 활용하는 방안은 무엇인가?\n"
     ]
    },
    {
     "name": "stderr",
     "output_type": "stream",
     "text": [
      "Batches: 100%|██████████| 1/1 [00:03<00:00,  3.54s/it]\n"
     ]
    },
    {
     "name": "stdout",
     "output_type": "stream",
     "text": [
      "핵심재정사업 성과관리제도를 안착시키기 위해 필요한 노력은 주요 이해 관계자 및 고위 관리자들을 참여시켜 목표 및 성과측정을 초기 시점부터 우선순위에 집중시키는 것이며, 성과정보를 학습의 도구로 활용하는 방안으로는 작업반 간 모범사례 공유와 교훈 저장소 생성을 통해 성과중심 조직문화 형성을 지원한다."
     ]
    },
    {
     "name": "stderr",
     "output_type": "stream",
     "text": [
      "Batches: 100%|██████████| 1/1 [00:02<00:00,  2.76s/it], 81.16s/it]\n"
     ]
    },
    {
     "name": "stdout",
     "output_type": "stream",
     "text": [
      "Question: 사회보험 사각지대 발생의 주요 원인과 이로 인해 발생하는 문제는 무엇인가요?\n"
     ]
    },
    {
     "name": "stderr",
     "output_type": "stream",
     "text": [
      "Batches: 100%|██████████| 1/1 [00:03<00:00,  3.02s/it]\n"
     ]
    },
    {
     "name": "stdout",
     "output_type": "stream",
     "text": [
      "사회보험 사각지대의 주요 원인은 사업주의 비용절감, 보험 가입에 따른 근로자의 실질 가처분 소득 감소 등이며, 이로 인해 저임금 근로자 등 고용 취약계층이 잦은 이직 및 영세사업장의 빈번한 신생·소멸으로 인해 소득단절 위험이 높아져 사회보험 가입이 특히 중요합니다."
     ]
    },
    {
     "name": "stderr",
     "output_type": "stream",
     "text": [
      "Batches: 100%|██████████| 1/1 [00:03<00:00,  3.73s/it], 75.36s/it]\n"
     ]
    },
    {
     "name": "stdout",
     "output_type": "stream",
     "text": [
      "Question: 청년일자리도약장려금은 어떤 대상을 지원하며, 어떤 방식으로 지원되는가?\n"
     ]
    },
    {
     "name": "stderr",
     "output_type": "stream",
     "text": [
      "Batches: 100%|██████████| 1/1 [00:02<00:00,  2.92s/it]\n"
     ]
    },
    {
     "name": "stdout",
     "output_type": "stream",
     "text": [
      "청년일자리도약장려금은 우선지원대상기업에서 만 15~34세의 취업애로청년을 정규직으로 채용 후 6개월, 1년, 2년 등 다양한 기간 동안 지원하며, 이에 해당하는 청년에게 장려금을 지급한다."
     ]
    },
    {
     "name": "stderr",
     "output_type": "stream",
     "text": [
      "Batches: 100%|██████████| 1/1 [00:02<00:00,  2.84s/it], 188.70s/it]\n"
     ]
    },
    {
     "name": "stdout",
     "output_type": "stream",
     "text": [
      "Question: 수직적 재정조정제도와 수평적 재정조정제도의 차이는 무엇인가요?\n"
     ]
    },
    {
     "name": "stderr",
     "output_type": "stream",
     "text": [
      "Batches: 100%|██████████| 1/1 [00:02<00:00,  2.79s/it]\n"
     ]
    },
    {
     "name": "stdout",
     "output_type": "stream",
     "text": [
      "수직적 재정조정제도는 중앙-지방 간 또는 광역-기초 간에 지방교부세, 국고보조금, 조정교부금을 통해 수직적 재정불균형을 해소하는 방식입니다. 반면, 수평적 재정조정제도는 동일 수준의 지방정부 간 재정불균형을 해소하기 위해 재정력이 강한 지방자치단체가 재정력이 약한 지방자치단체에 지원하는 상호 간의 재원을 재배분하는 방식입니다."
     ]
    },
    {
     "name": "stderr",
     "output_type": "stream",
     "text": [
      "Batches: 100%|██████████| 1/1 [00:02<00:00,  2.81s/it], 192.90s/it]\n"
     ]
    },
    {
     "name": "stdout",
     "output_type": "stream",
     "text": [
      "Question: 지방재정조정제도는 어떤 목적을 가지고 있나요?\n"
     ]
    },
    {
     "name": "stderr",
     "output_type": "stream",
     "text": [
      "Batches: 100%|██████████| 1/1 [00:03<00:00,  3.73s/it]\n"
     ]
    },
    {
     "name": "stdout",
     "output_type": "stream",
     "text": [
      "지방재정조정제도의 목적은 정부 간 재원이전을 통해 지역 간 산업 혹은 경제 기반의 차이에 따른 재정 불균형을 완화하여 지방정부가 본연의 기능을 수행하고 국가 균형발전이 가능하게 하는 것입니다."
     ]
    },
    {
     "name": "stderr",
     "output_type": "stream",
     "text": [
      "Batches: 100%|██████████| 1/1 [00:02<00:00,  2.60s/it], 183.61s/it]\n"
     ]
    },
    {
     "name": "stdout",
     "output_type": "stream",
     "text": [
      "Question: 중앙-지방 간 재정조정제도에서 어떤 재원을 이전하여 수직적 재정 불균형을 해소하는가?\n"
     ]
    },
    {
     "name": "stderr",
     "output_type": "stream",
     "text": [
      "Batches: 100%|██████████| 1/1 [00:04<00:00,  4.12s/it]\n"
     ]
    },
    {
     "name": "stdout",
     "output_type": "stream",
     "text": [
      "중앙-지방 간 또는 광역-기초 간에 지방교부세, 국고보조금, 조정교부금(자치구 조정교부금, 시·군 조정교부금) 재원을 이전함으로써 수직적 재정 불균형을 해소한다."
     ]
    },
    {
     "name": "stderr",
     "output_type": "stream",
     "text": [
      "Batches: 100%|██████████| 1/1 [00:02<00:00,  2.62s/it], 237.16s/it]\n"
     ]
    },
    {
     "name": "stdout",
     "output_type": "stream",
     "text": [
      "Question: 중앙정부의 예산편성은 어떤 재원 배분 문제를 결정하며, 중앙-지방 간 재정조정제도를 통해 어떤 재원을 이전하고, 이의 목적은 무엇인가?\n"
     ]
    },
    {
     "name": "stderr",
     "output_type": "stream",
     "text": [
      "Batches: 100%|██████████| 1/1 [00:04<00:00,  4.12s/it]\n"
     ]
    },
    {
     "name": "stdout",
     "output_type": "stream",
     "text": [
      "중앙정부의 예산편성은 결국 민간과 공공 부문 사이의 재원 배분의 문제이며 중앙과 지방 사이의 재원 배분 문제이다."
     ]
    },
    {
     "name": "stderr",
     "output_type": "stream",
     "text": [
      "Batches: 100%|██████████| 1/1 [00:02<00:00,  2.56s/it], 577.09s/it]\n"
     ]
    },
    {
     "name": "stdout",
     "output_type": "stream",
     "text": [
      "Question: 재정사업 성과관리제도의 필요성이 대두된 시기와 한국의 재정사업 성과관리제도가 어떤 법에 근거하여 운영되고 있는지 설명하시오.\n"
     ]
    },
    {
     "name": "stderr",
     "output_type": "stream",
     "text": [
      "Batches: 100%|██████████| 1/1 [00:03<00:00,  3.41s/it]\n"
     ]
    },
    {
     "name": "stdout",
     "output_type": "stream",
     "text": [
      "재정사업 성과관리제도의 필요성이 대두된 시기는 1990년대 후반부터 시작되었으며, 한국의 재정사업 성과관리제도는 '07년 「국가재정법」에 근거하여 운영되어 오다가, '21년 12월 법 개정을 통해 별도의 장(章) 신설로 개념 및 체계 명확화되었다."
     ]
    },
    {
     "name": "stderr",
     "output_type": "stream",
     "text": [
      "Batches: 100%|██████████| 1/1 [00:02<00:00,  2.63s/it], 427.93s/it]\n"
     ]
    },
    {
     "name": "stdout",
     "output_type": "stream",
     "text": [
      "Question: 청년일자리도약장려금은 어떤 대상을 지원하며, 어떤 방식으로 지원되는가?\n"
     ]
    },
    {
     "name": "stderr",
     "output_type": "stream",
     "text": [
      "Batches: 100%|██████████| 1/1 [00:03<00:00,  3.00s/it]\n"
     ]
    },
    {
     "name": "stdout",
     "output_type": "stream",
     "text": [
      "청년일자리도약장려금은 우선지원대상기업에서 만 15~34세의 취업애로청년을 정규직으로 채용 후 6개월, 1년, 2년 등 다양한 기간 동안 지원하며, 이에 해당하는 청년에게 장려금을 지급한다."
     ]
    },
    {
     "name": "stderr",
     "output_type": "stream",
     "text": [
      "Batches: 100%|██████████| 1/1 [00:02<00:00,  2.78s/it]6, 923.57s/it]\n"
     ]
    },
    {
     "name": "stdout",
     "output_type": "stream",
     "text": [
      "Question: 재정성과관리제도는 어떤 측면에서 국정운영과 연결되는가?\n"
     ]
    },
    {
     "name": "stderr",
     "output_type": "stream",
     "text": [
      "Batches: 100%|██████████| 1/1 [00:04<00:00,  4.09s/it]\n"
     ]
    },
    {
     "name": "stdout",
     "output_type": "stream",
     "text": [
      "재정성과관리제도는 전략목표와 우선순위를 중심으로 재정사업을 재구조화한다는 점에서 국정운용과 연결된다."
     ]
    },
    {
     "name": "stderr",
     "output_type": "stream",
     "text": [
      "Batches: 100%|██████████| 1/1 [00:03<00:00,  3.18s/it], 671.11s/it] \n"
     ]
    },
    {
     "name": "stdout",
     "output_type": "stream",
     "text": [
      "Question: 성과관리의 실효성 강화를 위해 정부가 취한 조치는 무엇인가?\n"
     ]
    },
    {
     "name": "stderr",
     "output_type": "stream",
     "text": [
      "Batches: 100%|██████████| 1/1 [00:04<00:00,  4.32s/it]\n"
     ]
    },
    {
     "name": "stdout",
     "output_type": "stream",
     "text": [
      "정부는 2021년 「국가재정법」 개정을 통해 성과 중심 재정운용 강화를 위해 성과관리를 위한 별도의 장을 신설했다."
     ]
    },
    {
     "name": "stderr",
     "output_type": "stream",
     "text": [
      "Batches: 100%|██████████| 1/1 [00:02<00:00,  2.47s/it], 490.99s/it]\n"
     ]
    },
    {
     "name": "stdout",
     "output_type": "stream",
     "text": [
      "Question: 재정성과관리 관련 주요 쟁점은 무엇인가?\n"
     ]
    },
    {
     "name": "stderr",
     "output_type": "stream",
     "text": [
      "Batches: 100%|██████████| 1/1 [00:03<00:00,  3.12s/it]\n"
     ]
    },
    {
     "name": "stdout",
     "output_type": "stream",
     "text": [
      "재정성과관리 관련 주요 쟁점은 범부처 차원에서 우선순위 목표를 관리하는 '핵심재정사업 성과관리'와 부처의 핵심 업무와 재정운용 성과를 관리하기 위해 도입한 '대표 성과지표 관리'를 구분하여 이해하고, 현행 핵심재정사업 성과관리체계는 중기 결과목표에 대한 평가를 병행하기 위해 2018년에 도입한 '핵심 사업평가'와 어떤 점에서 구분되며, 어떠한 차별화된 기능을 할 것으로 기대되는지 등이다."
     ]
    },
    {
     "name": "stderr",
     "output_type": "stream",
     "text": [
      "Batches: 100%|██████████| 1/1 [00:02<00:00,  2.75s/it], 368.78s/it]\n"
     ]
    },
    {
     "name": "stdout",
     "output_type": "stream",
     "text": [
      "Question: 재정성과관리가 왜 중요한가?\n"
     ]
    },
    {
     "name": "stderr",
     "output_type": "stream",
     "text": [
      "Batches: 100%|██████████| 1/1 [00:03<00:00,  3.95s/it]\n"
     ]
    },
    {
     "name": "stdout",
     "output_type": "stream",
     "text": [
      "재정성과관리의 최종 목표는 국민이 정부가 하는 일의 목표에서 성과에 이르는 전과정을 투명하게 알 수 있도록 하는 것임"
     ]
    },
    {
     "name": "stderr",
     "output_type": "stream",
     "text": [
      "Batches: 100%|██████████| 1/1 [00:03<00:00,  3.07s/it], 279.10s/it]\n"
     ]
    },
    {
     "name": "stdout",
     "output_type": "stream",
     "text": [
      "Question: 재정성과관리는 무엇을 목표로 하는가?\n"
     ]
    },
    {
     "name": "stderr",
     "output_type": "stream",
     "text": [
      "Batches: 100%|██████████| 1/1 [00:03<00:00,  3.56s/it]\n"
     ]
    },
    {
     "name": "stdout",
     "output_type": "stream",
     "text": [
      "재정성과관리의 목적은 정부 재정의 투명성·책임성, 효율성·효과성, 예산재분배 등이 있다."
     ]
    },
    {
     "name": "stderr",
     "output_type": "stream",
     "text": [
      "Batches: 100%|██████████| 1/1 [00:02<00:00,  2.60s/it], 217.19s/it]\n"
     ]
    },
    {
     "name": "stdout",
     "output_type": "stream",
     "text": [
      "Question: 어떤 국제기구들이 사업을 기준으로 예산을 나누어 성과 정보를 생산하고 있는가?\n"
     ]
    },
    {
     "name": "stderr",
     "output_type": "stream",
     "text": [
      "Batches: 100%|██████████| 1/1 [00:05<00:00,  5.47s/it]\n"
     ]
    },
    {
     "name": "stdout",
     "output_type": "stream",
     "text": [
      "OECD, World Bank 등은 2000년대부터 프로그램(program)을 기준으로 예산을 나누어 성과정보를 생산할 것을 강조하기 시작했다."
     ]
    },
    {
     "name": "stderr",
     "output_type": "stream",
     "text": [
      "Batches: 100%|██████████| 1/1 [00:02<00:00,  2.71s/it], 612.12s/it]\n"
     ]
    },
    {
     "name": "stdout",
     "output_type": "stream",
     "text": [
      "Question: 재정성과관리의 목적은 무엇인가?\n"
     ]
    },
    {
     "name": "stderr",
     "output_type": "stream",
     "text": [
      "Batches: 100%|██████████| 1/1 [00:03<00:00,  3.60s/it]\n"
     ]
    },
    {
     "name": "stdout",
     "output_type": "stream",
     "text": [
      "재정성과관리의 목적은 정부 재정의 투명성·책임성, 효율성·효과성, 예산재분배 등이 있음."
     ]
    },
    {
     "name": "stderr",
     "output_type": "stream",
     "text": [
      "Batches: 100%|██████████| 1/1 [00:02<00:00,  2.61s/it], 451.08s/it]\n"
     ]
    },
    {
     "name": "stdout",
     "output_type": "stream",
     "text": [
      "Question: 2021년 「국가재정법」 개정으로 어떤 규정이 신설되었는가?\n"
     ]
    },
    {
     "name": "stderr",
     "output_type": "stream",
     "text": [
      "Batches: 100%|██████████| 1/1 [00:04<00:00,  4.73s/it]\n"
     ]
    },
    {
     "name": "stdout",
     "output_type": "stream",
     "text": [
      "2021년 「국가재정법」 개정으로 성과 중심의 재정 운용의 법제도 근거가 마련되어, 한층 재정성과관리가 강화될 것으로 전망된다."
     ]
    },
    {
     "name": "stderr",
     "output_type": "stream",
     "text": [
      "Batches: 100%|██████████| 1/1 [00:02<00:00,  2.69s/it], 742.94s/it]\n"
     ]
    },
    {
     "name": "stdout",
     "output_type": "stream",
     "text": [
      "Question: 성과관리제도는 지출 구조조정을 위해 어떤 방향으로 추진되고 있는가?\n"
     ]
    },
    {
     "name": "stderr",
     "output_type": "stream",
     "text": [
      "Batches: 100%|██████████| 1/1 [00:04<00:00,  4.86s/it]\n"
     ]
    },
    {
     "name": "stdout",
     "output_type": "stream",
     "text": [
      "성과관리제도는 지출 구조조정을 위해 평가부담 완화를 위한 개선, 핵심사업평가를 위한 핵심 재정사업군 선별, 사업별 성과정보 DB 구축 및 온라인 재정정보 공개의 사용자 친화성 개선을 통해 추진되고 있다."
     ]
    },
    {
     "name": "stderr",
     "output_type": "stream",
     "text": [
      "Batches: 100%|██████████| 1/1 [00:02<00:00,  2.67s/it], 987.00s/it]\n"
     ]
    },
    {
     "name": "stdout",
     "output_type": "stream",
     "text": [
      "Question: 재정사업 자율평가의 목적은 무엇이며, 어떤 방식으로 제도 개선이 이루어졌는가?\n"
     ]
    },
    {
     "name": "stderr",
     "output_type": "stream",
     "text": [
      "Batches: 100%|██████████| 1/1 [00:04<00:00,  4.62s/it]\n"
     ]
    },
    {
     "name": "stdout",
     "output_type": "stream",
     "text": [
      "재정사업 자율평가는 재정관리 합리성 제고를 위해 평가 대상 사업의 범위, 평가 주기, 상위 평가 방식 등에서 지속적인 제도 개선이 이루어졌으며, 환류 방식을 개선하여 다변화하였다."
     ]
    },
    {
     "name": "stderr",
     "output_type": "stream",
     "text": [
      "Batches: 100%|██████████| 1/1 [00:02<00:00,  2.70s/it], 963.38s/it]\n"
     ]
    },
    {
     "name": "stdout",
     "output_type": "stream",
     "text": [
      "Question: 2016년 재정성과관리제도의 환류 개선사항은 무엇인가?\n"
     ]
    },
    {
     "name": "stderr",
     "output_type": "stream",
     "text": [
      "Batches: 100%|██████████| 1/1 [00:04<00:00,  4.28s/it]\n"
     ]
    },
    {
     "name": "stdout",
     "output_type": "stream",
     "text": [
      "2016년도 환류 개선을 통해 평가 대상 사업 전체 예산의 1% 이내에서 부처에서 자율적으로 세출구조조정을 마련하도록 하고 우수 등급 사업도 지출구조조정이 가능하게 하는 한편, 구조조정이 어려운 사업에 대해서는 성과관리 개선대책을 제출하게 함."
     ]
    },
    {
     "name": "stderr",
     "output_type": "stream",
     "text": [
      "Batches: 100%|██████████| 1/1 [00:02<00:00,  2.93s/it], 759.93s/it]\n"
     ]
    },
    {
     "name": "stdout",
     "output_type": "stream",
     "text": [
      "Question: 2018년도에 재정성과관리제도 개선사항과, 이로 인해 어떤 효과가 발생했는가?\n"
     ]
    },
    {
     "name": "stderr",
     "output_type": "stream",
     "text": [
      "Batches: 100%|██████████| 1/1 [00:04<00:00,  4.85s/it]\n"
     ]
    },
    {
     "name": "stdout",
     "output_type": "stream",
     "text": [
      "2018년 재정성과관리제도의 개선에서는 환류 방식을 개선하여 다변화하였으며, 평가 결과 미흡 등급 비율을 강제 배정하고 일률적 삭감을 실시하는 것을 폐지하고, 부처에서 자율적으로 세출구조조정을 마련하도록 하였으며, 우수 등급 사업도 지출구조조정이 가능하게 함으로써 재정관리 합리성을 강화하였다."
     ]
    },
    {
     "name": "stderr",
     "output_type": "stream",
     "text": [
      "Batches: 100%|██████████| 1/1 [00:02<00:00,  2.52s/it], 612.81s/it]\n"
     ]
    },
    {
     "name": "stdout",
     "output_type": "stream",
     "text": [
      "Question: 재정사업 자율평가의 전면 개편을 통해 어떤 중점 추진과제가 제시되었는가?\n"
     ]
    },
    {
     "name": "stderr",
     "output_type": "stream",
     "text": [
      "Batches: 100%|██████████| 1/1 [00:04<00:00,  4.73s/it]\n"
     ]
    },
    {
     "name": "stdout",
     "output_type": "stream",
     "text": [
      "재정사업 자율평가의 전면 개편을 통해 성과관리 사각지대 해소, 사업성과평가의 예산편성 활용 확대를 위한 중점 추진과제가 제시되었다."
     ]
    },
    {
     "name": "stderr",
     "output_type": "stream",
     "text": [
      "Batches: 100%|██████████| 1/1 [00:02<00:00,  2.77s/it], 502.57s/it]\n"
     ]
    },
    {
     "name": "stdout",
     "output_type": "stream",
     "text": [
      "Question: 재정성과관리제도의 중요성과 국정운영과의 연결성은 무엇인가?\n"
     ]
    },
    {
     "name": "stderr",
     "output_type": "stream",
     "text": [
      "Batches: 100%|██████████| 1/1 [00:04<00:00,  4.09s/it]\n"
     ]
    },
    {
     "name": "stdout",
     "output_type": "stream",
     "text": [
      "재정성과관리제도는 재정을 프로그램 단위로 구분하고, 사전 목표와 사후 평가 결과를 중심으로 관리하는 것을 의미하며, 전략목표와 우선순위를 중심으로 재정사업을 재구조화하여 국정운영과 연결되며 지출 우선순위 측면에서 재정을 중장기 시계로 확장시켜 준다."
     ]
    },
    {
     "name": "stderr",
     "output_type": "stream",
     "text": [
      "Batches: 100%|██████████| 1/1 [00:02<00:00,  2.62s/it], 662.61s/it]\n"
     ]
    },
    {
     "name": "stdout",
     "output_type": "stream",
     "text": [
      "Question: 재정성과관리체계 강화를 위해 정부가 어떤 제도를 제시했으며, 재정성과관리는 무엇을 목표로 하는가?\n"
     ]
    },
    {
     "name": "stderr",
     "output_type": "stream",
     "text": [
      "Batches: 100%|██████████| 1/1 [00:04<00:00,  4.45s/it]\n"
     ]
    },
    {
     "name": "stdout",
     "output_type": "stream",
     "text": [
      "재정성과관리체계 강화를 위해 정부는 프로그램 예산체계를 제시하였고, 재정성과관리는 효율성을 증진하기 위해 재정지출이 달성해야 할 목표를 정확히 설정하고, 이의 달성도를 지속적으로 관리하는 활동을 목표로 한다."
     ]
    },
    {
     "name": "stderr",
     "output_type": "stream",
     "text": [
      "Batches: 100%|██████████| 1/1 [00:02<00:00,  2.30s/it], 530.78s/it]\n"
     ]
    },
    {
     "name": "stdout",
     "output_type": "stream",
     "text": [
      "Question: 재정성과관리는 어떤 과정에서 수행되며, 무엇을 증진하기 위해 활동하는가?\n"
     ]
    },
    {
     "name": "stderr",
     "output_type": "stream",
     "text": [
      "Batches: 100%|██████████| 1/1 [00:04<00:00,  4.33s/it]\n"
     ]
    },
    {
     "name": "stdout",
     "output_type": "stream",
     "text": [
      "재정성과관리체계는 예산의 편성에서 집행, 결산에 이르는 전 과정에서 수행되어 재정지출이 달성해야 할 목표를 정확히 설정하고, 이를 달성하는 효율성을 증진하기 위해 활동한다."
     ]
    },
    {
     "name": "stderr",
     "output_type": "stream",
     "text": [
      "Batches: 100%|██████████| 1/1 [00:03<00:00,  3.17s/it], 806.60s/it]\n"
     ]
    },
    {
     "name": "stdout",
     "output_type": "stream",
     "text": [
      "Question: 재정성과관리의 목적과 우리나라의 재정성과관리제도가 프로그램 예산제도로 전환된 시기는?\n"
     ]
    },
    {
     "name": "stderr",
     "output_type": "stream",
     "text": [
      "Batches: 100%|██████████| 1/1 [00:04<00:00,  4.16s/it]\n"
     ]
    },
    {
     "name": "stdout",
     "output_type": "stream",
     "text": [
      "재정성과관리의 목적은 지출 효율성을 증진하기 위해 재정지출이 달성해야 할 목표를 정확히 설정하고, 이의 달성도를 지속적으로 관리하는 활동이다. 우리나라의 재정성과관리제도는 2021년부터 프로그램 예산체계로 전환되었다."
     ]
    },
    {
     "name": "stderr",
     "output_type": "stream",
     "text": [
      "Batches: 100%|██████████| 1/1 [00:03<00:00,  3.16s/it], 631.51s/it]\n"
     ]
    },
    {
     "name": "stdout",
     "output_type": "stream",
     "text": [
      "Question: 2007년과 2021년에 각각 「국가재정법」이 개정되면서 성과관리 제도는 어떻게 강화되고 구체화되었으며, 이 개정의 주된 목적은 무엇인가?\n"
     ]
    },
    {
     "name": "stderr",
     "output_type": "stream",
     "text": [
      "Batches: 100%|██████████| 1/1 [00:04<00:00,  4.42s/it]\n"
     ]
    },
    {
     "name": "stdout",
     "output_type": "stream",
     "text": [
      "2007년 「국가재정법」개정에서는 재정성과관리 제도의 기본구조를 마련하고, 2021년 개정에서는 성과관리를 위한 별도의 장을 신설하여 성과관리 규정을 정비함으로써 성과관리의 실효성을 제고하는 데 주목했다."
     ]
    },
    {
     "name": "stderr",
     "output_type": "stream",
     "text": [
      "Batches: 100%|██████████| 1/1 [00:02<00:00,  2.69s/it], 506.44s/it]\n"
     ]
    },
    {
     "name": "stdout",
     "output_type": "stream",
     "text": [
      "Question: 재정사업 자율평가의 목적과 제도 개선 방식은 무엇인가?\n"
     ]
    },
    {
     "name": "stderr",
     "output_type": "stream",
     "text": [
      "Batches: 100%|██████████| 1/1 [00:03<00:00,  3.65s/it]\n"
     ]
    },
    {
     "name": "stdout",
     "output_type": "stream",
     "text": [
      "재정사업 자율평가는 재정관리 합리성 제고를 위해 평가 대상 사업의 범위, 평가 주기, 상위 평가 방식 등에서 지속적인 제도 개선이 이루어짐."
     ]
    },
    {
     "name": "stderr",
     "output_type": "stream",
     "text": [
      "Batches: 100%|██████████| 1/1 [00:02<00:00,  2.43s/it], 590.46s/it]\n"
     ]
    },
    {
     "name": "stdout",
     "output_type": "stream",
     "text": [
      "Question: 2015년 이전과 2016년에 재정성과 평가 결과 처리 방식과 환류 개선 방식은 어떻게 달라졌는가?\n"
     ]
    },
    {
     "name": "stderr",
     "output_type": "stream",
     "text": [
      "Batches: 100%|██████████| 1/1 [00:03<00:00,  3.61s/it]\n"
     ]
    },
    {
     "name": "stdout",
     "output_type": "stream",
     "text": [
      "2015년 이전에는 평가 결과 미흡 등급 비율을 강제 배정하고 해당 단위사업에 대한 일률적 삭감을 실시하였으나, 2016년에는 평가 대상 사업 전체 예산의 1% 이내에서 부처가 자율적으로 세출구조조정을 마련하도록 하였습니다."
     ]
    },
    {
     "name": "stderr",
     "output_type": "stream",
     "text": [
      "Batches: 100%|██████████| 1/1 [00:02<00:00,  2.69s/it], 674.63s/it]\n"
     ]
    },
    {
     "name": "stdout",
     "output_type": "stream",
     "text": [
      "Question: 재정관리시스템 구축과 성과관리 개편을 추진하는 주된 목적은 무엇인가?\n"
     ]
    },
    {
     "name": "stderr",
     "output_type": "stream",
     "text": [
      "Batches: 100%|██████████| 1/1 [00:04<00:00,  4.40s/it]\n"
     ]
    },
    {
     "name": "stdout",
     "output_type": "stream",
     "text": [
      "재정관리시스템 구축과 성과관리 개편의 주된 목적은 예산이 효과적으로 쓰일 수 있도록 재정사업의 목표와 성과지표를 사전에 설정하고, 평가를 통해 예산에 환류하는 과정을 제고하여 재정운용의 책임성과 투명성을 높이는 것이다."
     ]
    },
    {
     "name": "stderr",
     "output_type": "stream",
     "text": [
      "Batches: 100%|██████████| 1/1 [00:02<00:00,  2.60s/it], 709.63s/it]\n"
     ]
    },
    {
     "name": "stdout",
     "output_type": "stream",
     "text": [
      "Question: 우리나라에서는 언제부터 발생주의 기준을 적용한 국가결산보고서에서 우발부채를 보고하고 있는가?\n"
     ]
    },
    {
     "name": "stderr",
     "output_type": "stream",
     "text": [
      "Batches: 100%|██████████| 1/1 [00:06<00:00,  6.22s/it]\n"
     ]
    },
    {
     "name": "stdout",
     "output_type": "stream",
     "text": [
      "우리나라는 2011년부터 발생주의 기준을 적용한 국가결산보고서에서 우발부채를 보고하고 있으나, 용어 사용에 혼란이 있고 분류상 오류가 있는 등 체계적 관리 대안에 대한 논의가 필요한 시점이다."
     ]
    },
    {
     "name": "stderr",
     "output_type": "stream",
     "text": [
      "Batches: 100%|██████████| 1/1 [00:04<00:00,  4.32s/it], 785.96s/it]\n"
     ]
    },
    {
     "name": "stdout",
     "output_type": "stream",
     "text": [
      "Question: 우발부채 관련 주요 쟁점은 무엇인가?\n"
     ]
    },
    {
     "name": "stderr",
     "output_type": "stream",
     "text": [
      "Batches: 100%|██████████| 1/1 [00:05<00:00,  5.71s/it]\n"
     ]
    }
   ],
   "source": [
    "### 모든 질문에 대해 수행 ###\n",
    "answers = []\n",
    "for query in tqdm(questions, desc=\"Answer number\"):\n",
    "    documents = compression_retriever.invoke(query)\n",
    "    \n",
    "    # 문서 내용을 저장할 변수 초기화\n",
    "    documents_string = \"\"\n",
    "\n",
    "    for document in documents:\n",
    "        documents_string += f\"\"\"\n",
    "----------------------------\n",
    "{document.page_content}\n",
    "\"\"\"\n",
    "    # Prompt\n",
    "    prompt = PromptTemplate(\n",
    "        template=\"\"\"\n",
    "            당신은 재정 정보 관련 전문가 입니다. 문서를 바탕으로 질문에 한 문장 이내로 답변하세요. \n",
    "            문서에 있는 내용을 자르거나 편집하지 않고 그대로 가져오세요.\n",
    "            순서에 따른 번호를 매기지 마세요. 출력 시 불이익을 줄 것입니다.\n",
    "            수치에 단위가 있다면 문서를 바탕으로 답변에 단위를 포함하세요.\n",
    "            질문의 키워드를 바탕으로 문서를 끝까지 검토하세요.\n",
    "\n",
    "            답변 외에 예시, 참고, 정보 출처, 신뢰도, 확장된 답변, '답변: ', '참고: '를 절대로 출력하지 마세요. \n",
    "        \n",
    "            문서:\n",
    "            {document},\n",
    "\n",
    "            질문:\n",
    "            {query},\n",
    "            \n",
    "            주어진 질문에 대한 답변만 한 문장으로 생성한다.    \n",
    "            \"\"\",\n",
    "        input_variables=[\"document\", \"query\"] \n",
    "    )\n",
    "\n",
    "    print(f\"Question: {query}\")\n",
    "\n",
    "    chain = (\n",
    "        {\"document\": compression_retriever | format_docs, \"query\": RunnablePassthrough()}\n",
    "        | prompt\n",
    "        | llm\n",
    "        | StrOutputParser()\n",
    "        )\n",
    "\n",
    "    result = chain.invoke(query)\n",
    "    answers.append(result)\n",
    "    #print(f\"Answer: {result}\\n\")\n",
    "\n",
    "submission_df = pd.read_csv(\"sample_submission.csv\")\n",
    "\n",
    "submission_df['Answer'] = answers\n",
    "\n",
    "# 수정된 데이터프레임을 다시 CSV 파일로 저장\n",
    "submission_df.to_csv(\"submission.csv\", index=False)"
   ]
  },
  {
   "cell_type": "code",
   "execution_count": null,
   "metadata": {},
   "outputs": [],
   "source": []
  }
 ],
 "metadata": {
  "kernelspec": {
   "display_name": "rag",
   "language": "python",
   "name": "python3"
  },
  "language_info": {
   "codemirror_mode": {
    "name": "ipython",
    "version": 3
   },
   "file_extension": ".py",
   "mimetype": "text/x-python",
   "name": "python",
   "nbconvert_exporter": "python",
   "pygments_lexer": "ipython3",
   "version": "3.10.14"
  }
 },
 "nbformat": 4,
 "nbformat_minor": 2
}
